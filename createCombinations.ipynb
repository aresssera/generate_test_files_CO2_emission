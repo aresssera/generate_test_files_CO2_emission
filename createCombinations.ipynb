{
  "cells": [
    {
      "cell_type": "code",
      "source": [
        "import pandas as pd # 0.23.0\n",
        "import numpy as np"
      ],
      "metadata": {
        "id": "65Qr9ip3uvh4"
      },
      "id": "65Qr9ip3uvh4",
      "execution_count": 68,
      "outputs": []
    },
    {
      "cell_type": "code",
      "source": [
        "fileName = 'combinations.csv'\n",
        "df = pd.read_csv(fileName)\n",
        "df"
      ],
      "metadata": {
        "colab": {
          "base_uri": "https://localhost:8080/",
          "height": 1000
        },
        "id": "pFKmceXeaP_m",
        "outputId": "723c8e1a-52c4-4a22-a830-c98f24baa8d7"
      },
      "id": "pFKmceXeaP_m",
      "execution_count": 83,
      "outputs": [
        {
          "output_type": "execute_result",
          "data": {
            "text/plain": [
              "                              Template               #VIN  \\\n",
              "0   templates/Temp_NoHybrid_Bifuel.xml  BFE01emptyB1040$$   \n",
              "1        templates/Temp_OVC_Bifuel.xml  BFE01vchevB10400$   \n",
              "2       templates/Temp_NOVC_Bifuel.xml  BFE01nchevB10400$   \n",
              "3   templates/Temp_NoHybrid_Bifuel.xml  BFE38emptyB1040$$   \n",
              "4        templates/Temp_OVC_Bifuel.xml  BFE38vchevB10400$   \n",
              "..                                 ...                ...   \n",
              "58    templates/Temp_NOVC_Monofuel.xml  BFE01nchevM20$$0$   \n",
              "59     templates/Temp_OVC_Monofuel.xml  BFE38vchevM20$$0$   \n",
              "60    templates/Temp_NOVC_Monofuel.xml  BFE38nchevM20$$0$   \n",
              "61     templates/Temp_OVC_Monofuel.xml  BFE30vchevM20$$0$   \n",
              "62    templates/Temp_NOVC_Monofuel.xml  BFE30nchevM20$$0$   \n",
              "\n",
              "   #VehicleCategoryCode ClassOfHybridVehicleCode #FuelTypeCode  #FuelCode1  \\\n",
              "0                    N1                    Empty             B          10   \n",
              "1                    N1                  OVC-HEV             B          10   \n",
              "2                    N1                 NOVC-HEV             B          10   \n",
              "3                    N1                    Empty             B          10   \n",
              "4                    N1                  OVC-HEV             B          10   \n",
              "..                  ...                      ...           ...         ...   \n",
              "58                   N1                 NOVC-HEV             M          20   \n",
              "59                   N1                  OVC-HEV             M          20   \n",
              "60                   N1                 NOVC-HEV             M          20   \n",
              "61                   M1                  OVC-HEV             M          20   \n",
              "62                   M1                 NOVC-HEV             M          20   \n",
              "\n",
              "   #FuelCode2 #FuelCode3 FuelCode4  \\\n",
              "0          40          -         -   \n",
              "1          40          0         -   \n",
              "2          40          0         -   \n",
              "3          40          -         -   \n",
              "4          40          0         -   \n",
              "..        ...        ...       ...   \n",
              "58          -          0         -   \n",
              "59          -          0         -   \n",
              "60          -          0         -   \n",
              "61          -          0         -   \n",
              "62          -          0         -   \n",
              "\n",
              "   Info manueller Change in DB: vehicleNatureCode   \\\n",
              "0                                                -   \n",
              "1                                                -   \n",
              "2                                                -   \n",
              "3                                               38   \n",
              "4                                               38   \n",
              "..                                             ...   \n",
              "58                                               -   \n",
              "59                                              38   \n",
              "60                                              38   \n",
              "61                                               -   \n",
              "62                                               -   \n",
              "\n",
              "                                  Bemerkung  \n",
              "0   BI-Fuel, tstof Y, Erdgas (CNG) / Benzin  \n",
              "1   BI-Fuel, tstof Y, Erdgas (CNG) / Benzin  \n",
              "2   BI-Fuel, tstof Y, Erdgas (CNG) / Benzin  \n",
              "3   BI-Fuel, tstof Y, Erdgas (CNG) / Benzin  \n",
              "4   BI-Fuel, tstof Y, Erdgas (CNG) / Benzin  \n",
              "..                                      ...  \n",
              "58   Mono-Fuel, Diesel/ elektrisch, tstof F  \n",
              "59   Mono-Fuel, Diesel/ elektrisch, tstof F  \n",
              "60   Mono-Fuel, Diesel/ elektrisch, tstof F  \n",
              "61   Mono-Fuel, Diesel/ elektrisch, tstof F  \n",
              "62   Mono-Fuel, Diesel/ elektrisch, tstof F  \n",
              "\n",
              "[63 rows x 11 columns]"
            ],
            "text/html": [
              "\n",
              "\n",
              "  <div id=\"df-f0ad4c39-983b-4514-9cb1-91c3e04366b0\">\n",
              "    <div class=\"colab-df-container\">\n",
              "      <div>\n",
              "<style scoped>\n",
              "    .dataframe tbody tr th:only-of-type {\n",
              "        vertical-align: middle;\n",
              "    }\n",
              "\n",
              "    .dataframe tbody tr th {\n",
              "        vertical-align: top;\n",
              "    }\n",
              "\n",
              "    .dataframe thead th {\n",
              "        text-align: right;\n",
              "    }\n",
              "</style>\n",
              "<table border=\"1\" class=\"dataframe\">\n",
              "  <thead>\n",
              "    <tr style=\"text-align: right;\">\n",
              "      <th></th>\n",
              "      <th>Template</th>\n",
              "      <th>#VIN</th>\n",
              "      <th>#VehicleCategoryCode</th>\n",
              "      <th>ClassOfHybridVehicleCode</th>\n",
              "      <th>#FuelTypeCode</th>\n",
              "      <th>#FuelCode1</th>\n",
              "      <th>#FuelCode2</th>\n",
              "      <th>#FuelCode3</th>\n",
              "      <th>FuelCode4</th>\n",
              "      <th>Info manueller Change in DB: vehicleNatureCode</th>\n",
              "      <th>Bemerkung</th>\n",
              "    </tr>\n",
              "  </thead>\n",
              "  <tbody>\n",
              "    <tr>\n",
              "      <th>0</th>\n",
              "      <td>templates/Temp_NoHybrid_Bifuel.xml</td>\n",
              "      <td>BFE01emptyB1040$$</td>\n",
              "      <td>N1</td>\n",
              "      <td>Empty</td>\n",
              "      <td>B</td>\n",
              "      <td>10</td>\n",
              "      <td>40</td>\n",
              "      <td>-</td>\n",
              "      <td>-</td>\n",
              "      <td>-</td>\n",
              "      <td>BI-Fuel, tstof Y, Erdgas (CNG) / Benzin</td>\n",
              "    </tr>\n",
              "    <tr>\n",
              "      <th>1</th>\n",
              "      <td>templates/Temp_OVC_Bifuel.xml</td>\n",
              "      <td>BFE01vchevB10400$</td>\n",
              "      <td>N1</td>\n",
              "      <td>OVC-HEV</td>\n",
              "      <td>B</td>\n",
              "      <td>10</td>\n",
              "      <td>40</td>\n",
              "      <td>0</td>\n",
              "      <td>-</td>\n",
              "      <td>-</td>\n",
              "      <td>BI-Fuel, tstof Y, Erdgas (CNG) / Benzin</td>\n",
              "    </tr>\n",
              "    <tr>\n",
              "      <th>2</th>\n",
              "      <td>templates/Temp_NOVC_Bifuel.xml</td>\n",
              "      <td>BFE01nchevB10400$</td>\n",
              "      <td>N1</td>\n",
              "      <td>NOVC-HEV</td>\n",
              "      <td>B</td>\n",
              "      <td>10</td>\n",
              "      <td>40</td>\n",
              "      <td>0</td>\n",
              "      <td>-</td>\n",
              "      <td>-</td>\n",
              "      <td>BI-Fuel, tstof Y, Erdgas (CNG) / Benzin</td>\n",
              "    </tr>\n",
              "    <tr>\n",
              "      <th>3</th>\n",
              "      <td>templates/Temp_NoHybrid_Bifuel.xml</td>\n",
              "      <td>BFE38emptyB1040$$</td>\n",
              "      <td>N1</td>\n",
              "      <td>Empty</td>\n",
              "      <td>B</td>\n",
              "      <td>10</td>\n",
              "      <td>40</td>\n",
              "      <td>-</td>\n",
              "      <td>-</td>\n",
              "      <td>38</td>\n",
              "      <td>BI-Fuel, tstof Y, Erdgas (CNG) / Benzin</td>\n",
              "    </tr>\n",
              "    <tr>\n",
              "      <th>4</th>\n",
              "      <td>templates/Temp_OVC_Bifuel.xml</td>\n",
              "      <td>BFE38vchevB10400$</td>\n",
              "      <td>N1</td>\n",
              "      <td>OVC-HEV</td>\n",
              "      <td>B</td>\n",
              "      <td>10</td>\n",
              "      <td>40</td>\n",
              "      <td>0</td>\n",
              "      <td>-</td>\n",
              "      <td>38</td>\n",
              "      <td>BI-Fuel, tstof Y, Erdgas (CNG) / Benzin</td>\n",
              "    </tr>\n",
              "    <tr>\n",
              "      <th>...</th>\n",
              "      <td>...</td>\n",
              "      <td>...</td>\n",
              "      <td>...</td>\n",
              "      <td>...</td>\n",
              "      <td>...</td>\n",
              "      <td>...</td>\n",
              "      <td>...</td>\n",
              "      <td>...</td>\n",
              "      <td>...</td>\n",
              "      <td>...</td>\n",
              "      <td>...</td>\n",
              "    </tr>\n",
              "    <tr>\n",
              "      <th>58</th>\n",
              "      <td>templates/Temp_NOVC_Monofuel.xml</td>\n",
              "      <td>BFE01nchevM20$$0$</td>\n",
              "      <td>N1</td>\n",
              "      <td>NOVC-HEV</td>\n",
              "      <td>M</td>\n",
              "      <td>20</td>\n",
              "      <td>-</td>\n",
              "      <td>0</td>\n",
              "      <td>-</td>\n",
              "      <td>-</td>\n",
              "      <td>Mono-Fuel, Diesel/ elektrisch, tstof F</td>\n",
              "    </tr>\n",
              "    <tr>\n",
              "      <th>59</th>\n",
              "      <td>templates/Temp_OVC_Monofuel.xml</td>\n",
              "      <td>BFE38vchevM20$$0$</td>\n",
              "      <td>N1</td>\n",
              "      <td>OVC-HEV</td>\n",
              "      <td>M</td>\n",
              "      <td>20</td>\n",
              "      <td>-</td>\n",
              "      <td>0</td>\n",
              "      <td>-</td>\n",
              "      <td>38</td>\n",
              "      <td>Mono-Fuel, Diesel/ elektrisch, tstof F</td>\n",
              "    </tr>\n",
              "    <tr>\n",
              "      <th>60</th>\n",
              "      <td>templates/Temp_NOVC_Monofuel.xml</td>\n",
              "      <td>BFE38nchevM20$$0$</td>\n",
              "      <td>N1</td>\n",
              "      <td>NOVC-HEV</td>\n",
              "      <td>M</td>\n",
              "      <td>20</td>\n",
              "      <td>-</td>\n",
              "      <td>0</td>\n",
              "      <td>-</td>\n",
              "      <td>38</td>\n",
              "      <td>Mono-Fuel, Diesel/ elektrisch, tstof F</td>\n",
              "    </tr>\n",
              "    <tr>\n",
              "      <th>61</th>\n",
              "      <td>templates/Temp_OVC_Monofuel.xml</td>\n",
              "      <td>BFE30vchevM20$$0$</td>\n",
              "      <td>M1</td>\n",
              "      <td>OVC-HEV</td>\n",
              "      <td>M</td>\n",
              "      <td>20</td>\n",
              "      <td>-</td>\n",
              "      <td>0</td>\n",
              "      <td>-</td>\n",
              "      <td>-</td>\n",
              "      <td>Mono-Fuel, Diesel/ elektrisch, tstof F</td>\n",
              "    </tr>\n",
              "    <tr>\n",
              "      <th>62</th>\n",
              "      <td>templates/Temp_NOVC_Monofuel.xml</td>\n",
              "      <td>BFE30nchevM20$$0$</td>\n",
              "      <td>M1</td>\n",
              "      <td>NOVC-HEV</td>\n",
              "      <td>M</td>\n",
              "      <td>20</td>\n",
              "      <td>-</td>\n",
              "      <td>0</td>\n",
              "      <td>-</td>\n",
              "      <td>-</td>\n",
              "      <td>Mono-Fuel, Diesel/ elektrisch, tstof F</td>\n",
              "    </tr>\n",
              "  </tbody>\n",
              "</table>\n",
              "<p>63 rows × 11 columns</p>\n",
              "</div>\n",
              "      <button class=\"colab-df-convert\" onclick=\"convertToInteractive('df-f0ad4c39-983b-4514-9cb1-91c3e04366b0')\"\n",
              "              title=\"Convert this dataframe to an interactive table.\"\n",
              "              style=\"display:none;\">\n",
              "\n",
              "  <svg xmlns=\"http://www.w3.org/2000/svg\" height=\"24px\"viewBox=\"0 0 24 24\"\n",
              "       width=\"24px\">\n",
              "    <path d=\"M0 0h24v24H0V0z\" fill=\"none\"/>\n",
              "    <path d=\"M18.56 5.44l.94 2.06.94-2.06 2.06-.94-2.06-.94-.94-2.06-.94 2.06-2.06.94zm-11 1L8.5 8.5l.94-2.06 2.06-.94-2.06-.94L8.5 2.5l-.94 2.06-2.06.94zm10 10l.94 2.06.94-2.06 2.06-.94-2.06-.94-.94-2.06-.94 2.06-2.06.94z\"/><path d=\"M17.41 7.96l-1.37-1.37c-.4-.4-.92-.59-1.43-.59-.52 0-1.04.2-1.43.59L10.3 9.45l-7.72 7.72c-.78.78-.78 2.05 0 2.83L4 21.41c.39.39.9.59 1.41.59.51 0 1.02-.2 1.41-.59l7.78-7.78 2.81-2.81c.8-.78.8-2.07 0-2.86zM5.41 20L4 18.59l7.72-7.72 1.47 1.35L5.41 20z\"/>\n",
              "  </svg>\n",
              "      </button>\n",
              "\n",
              "\n",
              "\n",
              "    <div id=\"df-b6c3619f-2784-4690-aea1-5538fd6c9479\">\n",
              "      <button class=\"colab-df-quickchart\" onclick=\"quickchart('df-b6c3619f-2784-4690-aea1-5538fd6c9479')\"\n",
              "              title=\"Suggest charts.\"\n",
              "              style=\"display:none;\">\n",
              "\n",
              "<svg xmlns=\"http://www.w3.org/2000/svg\" height=\"24px\"viewBox=\"0 0 24 24\"\n",
              "     width=\"24px\">\n",
              "    <g>\n",
              "        <path d=\"M19 3H5c-1.1 0-2 .9-2 2v14c0 1.1.9 2 2 2h14c1.1 0 2-.9 2-2V5c0-1.1-.9-2-2-2zM9 17H7v-7h2v7zm4 0h-2V7h2v10zm4 0h-2v-4h2v4z\"/>\n",
              "    </g>\n",
              "</svg>\n",
              "      </button>\n",
              "    </div>\n",
              "\n",
              "<style>\n",
              "  .colab-df-quickchart {\n",
              "    background-color: #E8F0FE;\n",
              "    border: none;\n",
              "    border-radius: 50%;\n",
              "    cursor: pointer;\n",
              "    display: none;\n",
              "    fill: #1967D2;\n",
              "    height: 32px;\n",
              "    padding: 0 0 0 0;\n",
              "    width: 32px;\n",
              "  }\n",
              "\n",
              "  .colab-df-quickchart:hover {\n",
              "    background-color: #E2EBFA;\n",
              "    box-shadow: 0px 1px 2px rgba(60, 64, 67, 0.3), 0px 1px 3px 1px rgba(60, 64, 67, 0.15);\n",
              "    fill: #174EA6;\n",
              "  }\n",
              "\n",
              "  [theme=dark] .colab-df-quickchart {\n",
              "    background-color: #3B4455;\n",
              "    fill: #D2E3FC;\n",
              "  }\n",
              "\n",
              "  [theme=dark] .colab-df-quickchart:hover {\n",
              "    background-color: #434B5C;\n",
              "    box-shadow: 0px 1px 3px 1px rgba(0, 0, 0, 0.15);\n",
              "    filter: drop-shadow(0px 1px 2px rgba(0, 0, 0, 0.3));\n",
              "    fill: #FFFFFF;\n",
              "  }\n",
              "</style>\n",
              "\n",
              "    <script>\n",
              "      async function quickchart(key) {\n",
              "        const containerElement = document.querySelector('#' + key);\n",
              "        const charts = await google.colab.kernel.invokeFunction(\n",
              "            'suggestCharts', [key], {});\n",
              "      }\n",
              "    </script>\n",
              "\n",
              "      <script>\n",
              "\n",
              "function displayQuickchartButton(domScope) {\n",
              "  let quickchartButtonEl =\n",
              "    domScope.querySelector('#df-b6c3619f-2784-4690-aea1-5538fd6c9479 button.colab-df-quickchart');\n",
              "  quickchartButtonEl.style.display =\n",
              "    google.colab.kernel.accessAllowed ? 'block' : 'none';\n",
              "}\n",
              "\n",
              "        displayQuickchartButton(document);\n",
              "      </script>\n",
              "      <style>\n",
              "    .colab-df-container {\n",
              "      display:flex;\n",
              "      flex-wrap:wrap;\n",
              "      gap: 12px;\n",
              "    }\n",
              "\n",
              "    .colab-df-convert {\n",
              "      background-color: #E8F0FE;\n",
              "      border: none;\n",
              "      border-radius: 50%;\n",
              "      cursor: pointer;\n",
              "      display: none;\n",
              "      fill: #1967D2;\n",
              "      height: 32px;\n",
              "      padding: 0 0 0 0;\n",
              "      width: 32px;\n",
              "    }\n",
              "\n",
              "    .colab-df-convert:hover {\n",
              "      background-color: #E2EBFA;\n",
              "      box-shadow: 0px 1px 2px rgba(60, 64, 67, 0.3), 0px 1px 3px 1px rgba(60, 64, 67, 0.15);\n",
              "      fill: #174EA6;\n",
              "    }\n",
              "\n",
              "    [theme=dark] .colab-df-convert {\n",
              "      background-color: #3B4455;\n",
              "      fill: #D2E3FC;\n",
              "    }\n",
              "\n",
              "    [theme=dark] .colab-df-convert:hover {\n",
              "      background-color: #434B5C;\n",
              "      box-shadow: 0px 1px 3px 1px rgba(0, 0, 0, 0.15);\n",
              "      filter: drop-shadow(0px 1px 2px rgba(0, 0, 0, 0.3));\n",
              "      fill: #FFFFFF;\n",
              "    }\n",
              "  </style>\n",
              "\n",
              "      <script>\n",
              "        const buttonEl =\n",
              "          document.querySelector('#df-f0ad4c39-983b-4514-9cb1-91c3e04366b0 button.colab-df-convert');\n",
              "        buttonEl.style.display =\n",
              "          google.colab.kernel.accessAllowed ? 'block' : 'none';\n",
              "\n",
              "        async function convertToInteractive(key) {\n",
              "          const element = document.querySelector('#df-f0ad4c39-983b-4514-9cb1-91c3e04366b0');\n",
              "          const dataTable =\n",
              "            await google.colab.kernel.invokeFunction('convertToInteractive',\n",
              "                                                     [key], {});\n",
              "          if (!dataTable) return;\n",
              "\n",
              "          const docLinkHtml = 'Like what you see? Visit the ' +\n",
              "            '<a target=\"_blank\" href=https://colab.research.google.com/notebooks/data_table.ipynb>data table notebook</a>'\n",
              "            + ' to learn more about interactive tables.';\n",
              "          element.innerHTML = '';\n",
              "          dataTable['output_type'] = 'display_data';\n",
              "          await google.colab.output.renderOutput(dataTable, element);\n",
              "          const docLink = document.createElement('div');\n",
              "          docLink.innerHTML = docLinkHtml;\n",
              "          element.appendChild(docLink);\n",
              "        }\n",
              "      </script>\n",
              "    </div>\n",
              "  </div>\n"
            ]
          },
          "metadata": {},
          "execution_count": 83
        }
      ]
    },
    {
      "cell_type": "code",
      "source": [
        "cols = ['#VehicleCategoryCode', 'ClassOfHybridVehicleCode',\n",
        "        '#FuelTypeCode', '#FuelCode1', '#FuelCode2', '#FuelCode3',\n",
        "        'FuelCode4', 'Info manueller Change in DB: vehicleNatureCode ']\n",
        "\n",
        "allLists = []\n",
        "\n",
        "for col in cols:\n",
        "  allLists.append(df[col].unique())\n",
        "  print(df[col].unique())\n",
        "\n",
        "len(allLists)\n",
        "allLists[7] = ['-', '35', '38']"
      ],
      "metadata": {
        "id": "JX3yYWX2cFEH",
        "colab": {
          "base_uri": "https://localhost:8080/"
        },
        "outputId": "325e9df4-d617-4363-8d91-a445c15387dd"
      },
      "id": "JX3yYWX2cFEH",
      "execution_count": 84,
      "outputs": [
        {
          "output_type": "stream",
          "name": "stdout",
          "text": [
            "['N1' 'M1']\n",
            "['Empty' 'OVC-HEV' 'NOVC-HEV' 'OVC-FCHV' 'NOVC-FCHV']\n",
            "['B' 'T' 'M' '-' 'D']\n",
            "[10 50  0 40 20]\n",
            "['40' '-']\n",
            "['-' '0' '44']\n",
            "['-' '0']\n",
            "['-' '38']\n"
          ]
        }
      ]
    },
    {
      "cell_type": "code",
      "source": [
        "newDF = pd.DataFrame(columns=cols)\n",
        "\n",
        "for a in allLists[0]:\n",
        "  for b in allLists[1]:\n",
        "    for c in allLists[2]:\n",
        "      for d in allLists[3]:\n",
        "        for e in allLists[4]:\n",
        "          for f in allLists[5]:\n",
        "            for g in allLists[6]:\n",
        "              for h in allLists[7]:\n",
        "\n",
        "                car = [a, b, c, d, e, f, g, h]\n",
        "                newDF.loc[len(newDF)] = car"
      ],
      "metadata": {
        "id": "Yg4pLH90dmjo"
      },
      "id": "Yg4pLH90dmjo",
      "execution_count": 85,
      "outputs": []
    },
    {
      "cell_type": "markdown",
      "source": [
        "---------------------------------------"
      ],
      "metadata": {
        "id": "oSscECAa88sc"
      },
      "id": "oSscECAa88sc"
    },
    {
      "cell_type": "code",
      "source": [
        "toDrop = []\n",
        "\n",
        "for index, row in newDF.iterrows():\n",
        "\n",
        "  fuelCode4 = row['FuelCode4']\n",
        "  fuelCode3 = row['#FuelCode3']\n",
        "\n",
        "  if fuelCode3 == '0':\n",
        "    if fuelCode4 == '0':\n",
        "      toDrop.append(index)\n",
        "      continue"
      ],
      "metadata": {
        "id": "MiPspkUeBw3C"
      },
      "id": "MiPspkUeBw3C",
      "execution_count": 91,
      "outputs": []
    },
    {
      "cell_type": "code",
      "source": [
        "len(toDrop)"
      ],
      "metadata": {
        "id": "aL-ZHTyGBw6Q",
        "outputId": "5a60fd01-1155-4f7a-c13d-c1a03d8ffd07",
        "colab": {
          "base_uri": "https://localhost:8080/"
        }
      },
      "id": "aL-ZHTyGBw6Q",
      "execution_count": 92,
      "outputs": [
        {
          "output_type": "execute_result",
          "data": {
            "text/plain": [
              "1500"
            ]
          },
          "metadata": {},
          "execution_count": 92
        }
      ]
    },
    {
      "cell_type": "markdown",
      "source": [
        "----------------------------------------"
      ],
      "metadata": {
        "id": "5SqfMPcPBxVl"
      },
      "id": "5SqfMPcPBxVl"
    },
    {
      "cell_type": "code",
      "source": [
        "indx = newDF[(newDF['#VehicleCategoryCode']=='M1') & (newDF['Info manueller Change in DB: vehicleNatureCode ']!='-')].index\n",
        "newDF.drop(indx, inplace=True)"
      ],
      "metadata": {
        "id": "jsBF2Qn-89ZM"
      },
      "id": "jsBF2Qn-89ZM",
      "execution_count": 72,
      "outputs": []
    },
    {
      "cell_type": "code",
      "source": [
        "print('N1: ', newDF[newDF['#VehicleCategoryCode'] == 'N1']['Info manueller Change in DB: vehicleNatureCode '].unique())\n",
        "print('M1: ', newDF[newDF['#VehicleCategoryCode'] == 'M1']['Info manueller Change in DB: vehicleNatureCode '].unique())"
      ],
      "metadata": {
        "id": "ZGKeVljV9EKx",
        "outputId": "63dbc292-b6fb-427a-f244-d0180fe20012",
        "colab": {
          "base_uri": "https://localhost:8080/"
        }
      },
      "id": "ZGKeVljV9EKx",
      "execution_count": 73,
      "outputs": [
        {
          "output_type": "stream",
          "name": "stdout",
          "text": [
            "N1:  ['-' '35' '38']\n",
            "M1:  ['-']\n"
          ]
        }
      ]
    },
    {
      "cell_type": "code",
      "source": [
        "len(newDF)"
      ],
      "metadata": {
        "id": "BsVRFIm09JM-",
        "outputId": "46e3eaae-f4fc-460e-fc26-731d72048765",
        "colab": {
          "base_uri": "https://localhost:8080/"
        }
      },
      "id": "BsVRFIm09JM-",
      "execution_count": 74,
      "outputs": [
        {
          "output_type": "execute_result",
          "data": {
            "text/plain": [
              "6000"
            ]
          },
          "metadata": {},
          "execution_count": 74
        }
      ]
    },
    {
      "cell_type": "markdown",
      "source": [
        "-------------------------------------------------------------\n"
      ],
      "metadata": {
        "id": "p-NxoEXA9svq"
      },
      "id": "p-NxoEXA9svq"
    },
    {
      "cell_type": "code",
      "source": [
        "toDrop = []\n",
        "\n",
        "for index, row in newDF.iterrows():\n",
        "\n",
        "  fuelCode4 = row['FuelCode4']\n",
        "  fuelCode3 = row['#FuelCode3']\n",
        "\n",
        "  if fuelCode3 == '0':\n",
        "    if fuelCode4 == '0':\n",
        "      toDrop.append(index)\n",
        "      continue"
      ],
      "metadata": {
        "id": "iBKhUInRCZpm"
      },
      "id": "iBKhUInRCZpm",
      "execution_count": null,
      "outputs": []
    },
    {
      "cell_type": "code",
      "source": [
        "newDF.drop(toDrop, inplace=True)"
      ],
      "metadata": {
        "id": "Lgl0x-UuCcnM"
      },
      "id": "Lgl0x-UuCcnM",
      "execution_count": null,
      "outputs": []
    },
    {
      "cell_type": "markdown",
      "source": [
        "_Empty_ cannot have a fuel code == 0 or '-'"
      ],
      "metadata": {
        "id": "7n-80Kw1-8SX"
      },
      "id": "7n-80Kw1-8SX"
    },
    {
      "cell_type": "code",
      "source": [
        "tmp = newDF[newDF['ClassOfHybridVehicleCode'] == 'Empty'].copy()\n",
        "\n",
        "toDrop = []\n",
        "\n",
        "for index, row in tmp.iterrows():\n",
        "\n",
        "  fuelCode2 = row['#FuelCode2']\n",
        "  fuelCode3 = row['#FuelCode3']\n",
        "\n",
        "  if fuelCode3 == 0 or fuelCode3 == '-':\n",
        "    toDrop.append(index)\n",
        "    continue"
      ],
      "metadata": {
        "id": "xhA6dYgR9ufT"
      },
      "id": "xhA6dYgR9ufT",
      "execution_count": 75,
      "outputs": []
    },
    {
      "cell_type": "code",
      "source": [
        "len(toDrop)"
      ],
      "metadata": {
        "id": "VCZ5gkJuA_s_",
        "outputId": "05058c24-87ac-45ca-8731-ad42be3d747e",
        "colab": {
          "base_uri": "https://localhost:8080/"
        }
      },
      "id": "VCZ5gkJuA_s_",
      "execution_count": 79,
      "outputs": [
        {
          "output_type": "execute_result",
          "data": {
            "text/plain": [
              "400"
            ]
          },
          "metadata": {},
          "execution_count": 79
        }
      ]
    },
    {
      "cell_type": "code",
      "source": [
        "newDF.drop(toDrop, inplace=True)"
      ],
      "metadata": {
        "id": "eaSFfeVE_9pF"
      },
      "id": "eaSFfeVE_9pF",
      "execution_count": 78,
      "outputs": []
    },
    {
      "cell_type": "markdown",
      "source": [
        "-----------------------------"
      ],
      "metadata": {
        "id": "qlgyGhp-AyTn"
      },
      "id": "qlgyGhp-AyTn"
    },
    {
      "cell_type": "code",
      "source": [
        "toDrop = []\n",
        "\n",
        "for index, row in newDF.iterrows():\n",
        "\n",
        "  fuelCode4 = row['FuelCode4']\n",
        "  fuelCode3 = row['#FuelCode3']\n",
        "\n",
        "  if fuelCode3 == 0 and fuelCode4 == 0:\n",
        "    toDrop.append(index)\n",
        "    continue"
      ],
      "metadata": {
        "id": "lTKSGBbjA3Jx"
      },
      "id": "lTKSGBbjA3Jx",
      "execution_count": 80,
      "outputs": []
    },
    {
      "cell_type": "code",
      "source": [
        "len(toDrop)"
      ],
      "metadata": {
        "id": "qg_gT7X5BKvQ",
        "outputId": "d9ef1922-f98e-47f4-fddc-0fcf1b33956a",
        "colab": {
          "base_uri": "https://localhost:8080/"
        }
      },
      "id": "qg_gT7X5BKvQ",
      "execution_count": 81,
      "outputs": [
        {
          "output_type": "execute_result",
          "data": {
            "text/plain": [
              "0"
            ]
          },
          "metadata": {},
          "execution_count": 81
        }
      ]
    },
    {
      "cell_type": "code",
      "source": [
        "newDF.drop(toDrop, inplace=True)"
      ],
      "metadata": {
        "id": "8ojRbaarBLRn"
      },
      "id": "8ojRbaarBLRn",
      "execution_count": null,
      "outputs": []
    },
    {
      "cell_type": "markdown",
      "source": [
        "--------------------------------------"
      ],
      "metadata": {
        "id": "OEZirGCBAynI"
      },
      "id": "OEZirGCBAynI"
    },
    {
      "cell_type": "code",
      "source": [
        "newDF[newDF['FuelCode4'] == 0]"
      ],
      "metadata": {
        "id": "eDNSR4hr_9vI",
        "outputId": "f2a54e86-6146-4da5-cb3d-9080dc10ee6d",
        "colab": {
          "base_uri": "https://localhost:8080/",
          "height": 110
        }
      },
      "id": "eDNSR4hr_9vI",
      "execution_count": 82,
      "outputs": [
        {
          "output_type": "execute_result",
          "data": {
            "text/plain": [
              "Empty DataFrame\n",
              "Columns: [#VehicleCategoryCode, ClassOfHybridVehicleCode, #FuelTypeCode, #FuelCode1, #FuelCode2, #FuelCode3, FuelCode4, Info manueller Change in DB: vehicleNatureCode ]\n",
              "Index: []"
            ],
            "text/html": [
              "\n",
              "\n",
              "  <div id=\"df-278a61ee-8674-4b99-968b-8523173c4624\">\n",
              "    <div class=\"colab-df-container\">\n",
              "      <div>\n",
              "<style scoped>\n",
              "    .dataframe tbody tr th:only-of-type {\n",
              "        vertical-align: middle;\n",
              "    }\n",
              "\n",
              "    .dataframe tbody tr th {\n",
              "        vertical-align: top;\n",
              "    }\n",
              "\n",
              "    .dataframe thead th {\n",
              "        text-align: right;\n",
              "    }\n",
              "</style>\n",
              "<table border=\"1\" class=\"dataframe\">\n",
              "  <thead>\n",
              "    <tr style=\"text-align: right;\">\n",
              "      <th></th>\n",
              "      <th>#VehicleCategoryCode</th>\n",
              "      <th>ClassOfHybridVehicleCode</th>\n",
              "      <th>#FuelTypeCode</th>\n",
              "      <th>#FuelCode1</th>\n",
              "      <th>#FuelCode2</th>\n",
              "      <th>#FuelCode3</th>\n",
              "      <th>FuelCode4</th>\n",
              "      <th>Info manueller Change in DB: vehicleNatureCode</th>\n",
              "    </tr>\n",
              "  </thead>\n",
              "  <tbody>\n",
              "  </tbody>\n",
              "</table>\n",
              "</div>\n",
              "      <button class=\"colab-df-convert\" onclick=\"convertToInteractive('df-278a61ee-8674-4b99-968b-8523173c4624')\"\n",
              "              title=\"Convert this dataframe to an interactive table.\"\n",
              "              style=\"display:none;\">\n",
              "\n",
              "  <svg xmlns=\"http://www.w3.org/2000/svg\" height=\"24px\"viewBox=\"0 0 24 24\"\n",
              "       width=\"24px\">\n",
              "    <path d=\"M0 0h24v24H0V0z\" fill=\"none\"/>\n",
              "    <path d=\"M18.56 5.44l.94 2.06.94-2.06 2.06-.94-2.06-.94-.94-2.06-.94 2.06-2.06.94zm-11 1L8.5 8.5l.94-2.06 2.06-.94-2.06-.94L8.5 2.5l-.94 2.06-2.06.94zm10 10l.94 2.06.94-2.06 2.06-.94-2.06-.94-.94-2.06-.94 2.06-2.06.94z\"/><path d=\"M17.41 7.96l-1.37-1.37c-.4-.4-.92-.59-1.43-.59-.52 0-1.04.2-1.43.59L10.3 9.45l-7.72 7.72c-.78.78-.78 2.05 0 2.83L4 21.41c.39.39.9.59 1.41.59.51 0 1.02-.2 1.41-.59l7.78-7.78 2.81-2.81c.8-.78.8-2.07 0-2.86zM5.41 20L4 18.59l7.72-7.72 1.47 1.35L5.41 20z\"/>\n",
              "  </svg>\n",
              "      </button>\n",
              "\n",
              "\n",
              "\n",
              "    <div id=\"df-447373a0-2c67-4391-883e-05c9588f1190\">\n",
              "      <button class=\"colab-df-quickchart\" onclick=\"quickchart('df-447373a0-2c67-4391-883e-05c9588f1190')\"\n",
              "              title=\"Suggest charts.\"\n",
              "              style=\"display:none;\">\n",
              "\n",
              "<svg xmlns=\"http://www.w3.org/2000/svg\" height=\"24px\"viewBox=\"0 0 24 24\"\n",
              "     width=\"24px\">\n",
              "    <g>\n",
              "        <path d=\"M19 3H5c-1.1 0-2 .9-2 2v14c0 1.1.9 2 2 2h14c1.1 0 2-.9 2-2V5c0-1.1-.9-2-2-2zM9 17H7v-7h2v7zm4 0h-2V7h2v10zm4 0h-2v-4h2v4z\"/>\n",
              "    </g>\n",
              "</svg>\n",
              "      </button>\n",
              "    </div>\n",
              "\n",
              "<style>\n",
              "  .colab-df-quickchart {\n",
              "    background-color: #E8F0FE;\n",
              "    border: none;\n",
              "    border-radius: 50%;\n",
              "    cursor: pointer;\n",
              "    display: none;\n",
              "    fill: #1967D2;\n",
              "    height: 32px;\n",
              "    padding: 0 0 0 0;\n",
              "    width: 32px;\n",
              "  }\n",
              "\n",
              "  .colab-df-quickchart:hover {\n",
              "    background-color: #E2EBFA;\n",
              "    box-shadow: 0px 1px 2px rgba(60, 64, 67, 0.3), 0px 1px 3px 1px rgba(60, 64, 67, 0.15);\n",
              "    fill: #174EA6;\n",
              "  }\n",
              "\n",
              "  [theme=dark] .colab-df-quickchart {\n",
              "    background-color: #3B4455;\n",
              "    fill: #D2E3FC;\n",
              "  }\n",
              "\n",
              "  [theme=dark] .colab-df-quickchart:hover {\n",
              "    background-color: #434B5C;\n",
              "    box-shadow: 0px 1px 3px 1px rgba(0, 0, 0, 0.15);\n",
              "    filter: drop-shadow(0px 1px 2px rgba(0, 0, 0, 0.3));\n",
              "    fill: #FFFFFF;\n",
              "  }\n",
              "</style>\n",
              "\n",
              "    <script>\n",
              "      async function quickchart(key) {\n",
              "        const containerElement = document.querySelector('#' + key);\n",
              "        const charts = await google.colab.kernel.invokeFunction(\n",
              "            'suggestCharts', [key], {});\n",
              "      }\n",
              "    </script>\n",
              "\n",
              "      <script>\n",
              "\n",
              "function displayQuickchartButton(domScope) {\n",
              "  let quickchartButtonEl =\n",
              "    domScope.querySelector('#df-447373a0-2c67-4391-883e-05c9588f1190 button.colab-df-quickchart');\n",
              "  quickchartButtonEl.style.display =\n",
              "    google.colab.kernel.accessAllowed ? 'block' : 'none';\n",
              "}\n",
              "\n",
              "        displayQuickchartButton(document);\n",
              "      </script>\n",
              "      <style>\n",
              "    .colab-df-container {\n",
              "      display:flex;\n",
              "      flex-wrap:wrap;\n",
              "      gap: 12px;\n",
              "    }\n",
              "\n",
              "    .colab-df-convert {\n",
              "      background-color: #E8F0FE;\n",
              "      border: none;\n",
              "      border-radius: 50%;\n",
              "      cursor: pointer;\n",
              "      display: none;\n",
              "      fill: #1967D2;\n",
              "      height: 32px;\n",
              "      padding: 0 0 0 0;\n",
              "      width: 32px;\n",
              "    }\n",
              "\n",
              "    .colab-df-convert:hover {\n",
              "      background-color: #E2EBFA;\n",
              "      box-shadow: 0px 1px 2px rgba(60, 64, 67, 0.3), 0px 1px 3px 1px rgba(60, 64, 67, 0.15);\n",
              "      fill: #174EA6;\n",
              "    }\n",
              "\n",
              "    [theme=dark] .colab-df-convert {\n",
              "      background-color: #3B4455;\n",
              "      fill: #D2E3FC;\n",
              "    }\n",
              "\n",
              "    [theme=dark] .colab-df-convert:hover {\n",
              "      background-color: #434B5C;\n",
              "      box-shadow: 0px 1px 3px 1px rgba(0, 0, 0, 0.15);\n",
              "      filter: drop-shadow(0px 1px 2px rgba(0, 0, 0, 0.3));\n",
              "      fill: #FFFFFF;\n",
              "    }\n",
              "  </style>\n",
              "\n",
              "      <script>\n",
              "        const buttonEl =\n",
              "          document.querySelector('#df-278a61ee-8674-4b99-968b-8523173c4624 button.colab-df-convert');\n",
              "        buttonEl.style.display =\n",
              "          google.colab.kernel.accessAllowed ? 'block' : 'none';\n",
              "\n",
              "        async function convertToInteractive(key) {\n",
              "          const element = document.querySelector('#df-278a61ee-8674-4b99-968b-8523173c4624');\n",
              "          const dataTable =\n",
              "            await google.colab.kernel.invokeFunction('convertToInteractive',\n",
              "                                                     [key], {});\n",
              "          if (!dataTable) return;\n",
              "\n",
              "          const docLinkHtml = 'Like what you see? Visit the ' +\n",
              "            '<a target=\"_blank\" href=https://colab.research.google.com/notebooks/data_table.ipynb>data table notebook</a>'\n",
              "            + ' to learn more about interactive tables.';\n",
              "          element.innerHTML = '';\n",
              "          dataTable['output_type'] = 'display_data';\n",
              "          await google.colab.output.renderOutput(dataTable, element);\n",
              "          const docLink = document.createElement('div');\n",
              "          docLink.innerHTML = docLinkHtml;\n",
              "          element.appendChild(docLink);\n",
              "        }\n",
              "      </script>\n",
              "    </div>\n",
              "  </div>\n"
            ]
          },
          "metadata": {},
          "execution_count": 82
        }
      ]
    },
    {
      "cell_type": "markdown",
      "source": [
        "--------------------------------------------------------------------------"
      ],
      "metadata": {
        "id": "Od7zABuc88v1"
      },
      "id": "Od7zABuc88v1"
    },
    {
      "cell_type": "code",
      "source": [],
      "metadata": {
        "id": "gS8n4E7K_9Az"
      },
      "id": "gS8n4E7K_9Az",
      "execution_count": null,
      "outputs": []
    },
    {
      "cell_type": "code",
      "source": [],
      "metadata": {
        "id": "agdG8sBm_9Da"
      },
      "id": "agdG8sBm_9Da",
      "execution_count": null,
      "outputs": []
    },
    {
      "cell_type": "code",
      "source": [],
      "metadata": {
        "id": "fyFKYiyZ_9G5"
      },
      "id": "fyFKYiyZ_9G5",
      "execution_count": null,
      "outputs": []
    },
    {
      "cell_type": "code",
      "source": [
        "newDF['#VIN'] = '-'\n",
        "newDF = newDF[['#VIN', '#VehicleCategoryCode', 'ClassOfHybridVehicleCode',\n",
        "               '#FuelTypeCode', '#FuelCode1', '#FuelCode2', '#FuelCode3',\n",
        "               'FuelCode4', 'Info manueller Change in DB: vehicleNatureCode ']]"
      ],
      "metadata": {
        "id": "hL_HmeSddnlm"
      },
      "id": "hL_HmeSddnlm",
      "execution_count": 56,
      "outputs": []
    },
    {
      "cell_type": "code",
      "source": [
        "# map the following values\n",
        "dict_VCC = {'N1': '01', 'M1': '30'} # 35 and 38 need to be mapped\n",
        "dict_CHVC = {'Empty': 'empty', 'OVC-HEV': 'vchev',\n",
        "             'NOVC-HEV': 'nchev', 'OVC-FCHV': 'cfchv',\n",
        "             'NOVC-FCHV': 'nfchv'}\n",
        "\n",
        "\n",
        "def createVIN(row):\n",
        "\n",
        "  emptyElement = 'x'\n",
        "\n",
        "  newVIN = 'BFE'\n",
        "\n",
        "  # check for N1\n",
        "  vcc = row['#VehicleCategoryCode']\n",
        "\n",
        "  if vcc == 'N1':\n",
        "\n",
        "    com = row['Info manueller Change in DB: vehicleNatureCode ']\n",
        "\n",
        "    if com  != '-':\n",
        "      newVIN = newVIN + com\n",
        "    else:\n",
        "      newVIN = newVIN + dict_VCC[vcc]\n",
        "  else:\n",
        "    newVIN = newVIN + dict_VCC[vcc]\n",
        "\n",
        "\n",
        "  newVIN = newVIN + dict_CHVC[row['ClassOfHybridVehicleCode']]\n",
        "\n",
        "\n",
        "  fuelTypeCode = row['#FuelTypeCode']\n",
        "\n",
        "  if fuelTypeCode == '-':\n",
        "    newVIN = newVIN + emptyElement\n",
        "  else:\n",
        "    newVIN = newVIN + fuelTypeCode\n",
        "\n",
        "  for col in ['#FuelCode1','#FuelCode2', '#FuelCode3']:\n",
        "\n",
        "    val = str(row[col])\n",
        "\n",
        "    if len(val) < 2:\n",
        "      if val == '-':\n",
        "        val = emptyElement + emptyElement\n",
        "      else:\n",
        "        val = val + emptyElement\n",
        "\n",
        "    newVIN = newVIN + val\n",
        "\n",
        "  return newVIN"
      ],
      "metadata": {
        "id": "cBTV19aFeiJq"
      },
      "id": "cBTV19aFeiJq",
      "execution_count": 57,
      "outputs": []
    },
    {
      "cell_type": "code",
      "source": [
        "newDF['#VIN'] = newDF.apply(lambda row: createVIN(row), axis=1)\n",
        "\n",
        "for i in range(30):\n",
        "  print(newDF['#VIN'].unique()[i])"
      ],
      "metadata": {
        "id": "oKXrMstzlpAs",
        "colab": {
          "base_uri": "https://localhost:8080/"
        },
        "outputId": "070ad779-61c3-4629-e90e-25b0e5dfd22f"
      },
      "id": "oKXrMstzlpAs",
      "execution_count": 58,
      "outputs": [
        {
          "output_type": "stream",
          "name": "stdout",
          "text": [
            "BFE01emptyB1040xx\n",
            "BFE35emptyB1040xx\n",
            "BFE38emptyB1040xx\n",
            "BFE01emptyB10400x\n",
            "BFE35emptyB10400x\n",
            "BFE38emptyB10400x\n",
            "BFE01emptyB104044\n",
            "BFE35emptyB104044\n",
            "BFE38emptyB104044\n",
            "BFE01emptyB10xxxx\n",
            "BFE35emptyB10xxxx\n",
            "BFE38emptyB10xxxx\n",
            "BFE01emptyB10xx0x\n",
            "BFE35emptyB10xx0x\n",
            "BFE38emptyB10xx0x\n",
            "BFE01emptyB10xx44\n",
            "BFE35emptyB10xx44\n",
            "BFE38emptyB10xx44\n",
            "BFE01emptyB5040xx\n",
            "BFE35emptyB5040xx\n",
            "BFE38emptyB5040xx\n",
            "BFE01emptyB50400x\n",
            "BFE35emptyB50400x\n",
            "BFE38emptyB50400x\n",
            "BFE01emptyB504044\n",
            "BFE35emptyB504044\n",
            "BFE38emptyB504044\n",
            "BFE01emptyB50xxxx\n",
            "BFE35emptyB50xxxx\n",
            "BFE38emptyB50xxxx\n"
          ]
        }
      ]
    },
    {
      "cell_type": "code",
      "source": [
        "len(newDF['#VIN'].unique())"
      ],
      "metadata": {
        "id": "Z3GIumKo5kpv",
        "outputId": "45b05ad3-ad4b-4987-81bb-57b18a26f372",
        "colab": {
          "base_uri": "https://localhost:8080/"
        }
      },
      "id": "Z3GIumKo5kpv",
      "execution_count": 59,
      "outputs": [
        {
          "output_type": "execute_result",
          "data": {
            "text/plain": [
              "3000"
            ]
          },
          "metadata": {},
          "execution_count": 59
        }
      ]
    },
    {
      "cell_type": "code",
      "source": [
        "newDF[newDF['#VIN'] == 'BFE01emptyB1040xx']"
      ],
      "metadata": {
        "id": "JZeIyuIP-i9X",
        "outputId": "efbf4c10-4181-48aa-bc96-f837d48c102c",
        "colab": {
          "base_uri": "https://localhost:8080/",
          "height": 210
        }
      },
      "id": "JZeIyuIP-i9X",
      "execution_count": 60,
      "outputs": [
        {
          "output_type": "execute_result",
          "data": {
            "text/plain": [
              "                #VIN #VehicleCategoryCode ClassOfHybridVehicleCode  \\\n",
              "0  BFE01emptyB1040xx                   N1                    Empty   \n",
              "3  BFE01emptyB1040xx                   N1                    Empty   \n",
              "\n",
              "  #FuelTypeCode  #FuelCode1 #FuelCode2 #FuelCode3 FuelCode4  \\\n",
              "0             B          10         40          -         -   \n",
              "3             B          10         40          -         0   \n",
              "\n",
              "  Info manueller Change in DB: vehicleNatureCode   \n",
              "0                                               -  \n",
              "3                                               -  "
            ],
            "text/html": [
              "\n",
              "\n",
              "  <div id=\"df-eb7f2f31-d9b8-4463-88e2-c1e0520f3981\">\n",
              "    <div class=\"colab-df-container\">\n",
              "      <div>\n",
              "<style scoped>\n",
              "    .dataframe tbody tr th:only-of-type {\n",
              "        vertical-align: middle;\n",
              "    }\n",
              "\n",
              "    .dataframe tbody tr th {\n",
              "        vertical-align: top;\n",
              "    }\n",
              "\n",
              "    .dataframe thead th {\n",
              "        text-align: right;\n",
              "    }\n",
              "</style>\n",
              "<table border=\"1\" class=\"dataframe\">\n",
              "  <thead>\n",
              "    <tr style=\"text-align: right;\">\n",
              "      <th></th>\n",
              "      <th>#VIN</th>\n",
              "      <th>#VehicleCategoryCode</th>\n",
              "      <th>ClassOfHybridVehicleCode</th>\n",
              "      <th>#FuelTypeCode</th>\n",
              "      <th>#FuelCode1</th>\n",
              "      <th>#FuelCode2</th>\n",
              "      <th>#FuelCode3</th>\n",
              "      <th>FuelCode4</th>\n",
              "      <th>Info manueller Change in DB: vehicleNatureCode</th>\n",
              "    </tr>\n",
              "  </thead>\n",
              "  <tbody>\n",
              "    <tr>\n",
              "      <th>0</th>\n",
              "      <td>BFE01emptyB1040xx</td>\n",
              "      <td>N1</td>\n",
              "      <td>Empty</td>\n",
              "      <td>B</td>\n",
              "      <td>10</td>\n",
              "      <td>40</td>\n",
              "      <td>-</td>\n",
              "      <td>-</td>\n",
              "      <td>-</td>\n",
              "    </tr>\n",
              "    <tr>\n",
              "      <th>3</th>\n",
              "      <td>BFE01emptyB1040xx</td>\n",
              "      <td>N1</td>\n",
              "      <td>Empty</td>\n",
              "      <td>B</td>\n",
              "      <td>10</td>\n",
              "      <td>40</td>\n",
              "      <td>-</td>\n",
              "      <td>0</td>\n",
              "      <td>-</td>\n",
              "    </tr>\n",
              "  </tbody>\n",
              "</table>\n",
              "</div>\n",
              "      <button class=\"colab-df-convert\" onclick=\"convertToInteractive('df-eb7f2f31-d9b8-4463-88e2-c1e0520f3981')\"\n",
              "              title=\"Convert this dataframe to an interactive table.\"\n",
              "              style=\"display:none;\">\n",
              "\n",
              "  <svg xmlns=\"http://www.w3.org/2000/svg\" height=\"24px\"viewBox=\"0 0 24 24\"\n",
              "       width=\"24px\">\n",
              "    <path d=\"M0 0h24v24H0V0z\" fill=\"none\"/>\n",
              "    <path d=\"M18.56 5.44l.94 2.06.94-2.06 2.06-.94-2.06-.94-.94-2.06-.94 2.06-2.06.94zm-11 1L8.5 8.5l.94-2.06 2.06-.94-2.06-.94L8.5 2.5l-.94 2.06-2.06.94zm10 10l.94 2.06.94-2.06 2.06-.94-2.06-.94-.94-2.06-.94 2.06-2.06.94z\"/><path d=\"M17.41 7.96l-1.37-1.37c-.4-.4-.92-.59-1.43-.59-.52 0-1.04.2-1.43.59L10.3 9.45l-7.72 7.72c-.78.78-.78 2.05 0 2.83L4 21.41c.39.39.9.59 1.41.59.51 0 1.02-.2 1.41-.59l7.78-7.78 2.81-2.81c.8-.78.8-2.07 0-2.86zM5.41 20L4 18.59l7.72-7.72 1.47 1.35L5.41 20z\"/>\n",
              "  </svg>\n",
              "      </button>\n",
              "\n",
              "\n",
              "\n",
              "    <div id=\"df-144fa6a2-85f3-4175-bd6b-1af68c1e1f2e\">\n",
              "      <button class=\"colab-df-quickchart\" onclick=\"quickchart('df-144fa6a2-85f3-4175-bd6b-1af68c1e1f2e')\"\n",
              "              title=\"Suggest charts.\"\n",
              "              style=\"display:none;\">\n",
              "\n",
              "<svg xmlns=\"http://www.w3.org/2000/svg\" height=\"24px\"viewBox=\"0 0 24 24\"\n",
              "     width=\"24px\">\n",
              "    <g>\n",
              "        <path d=\"M19 3H5c-1.1 0-2 .9-2 2v14c0 1.1.9 2 2 2h14c1.1 0 2-.9 2-2V5c0-1.1-.9-2-2-2zM9 17H7v-7h2v7zm4 0h-2V7h2v10zm4 0h-2v-4h2v4z\"/>\n",
              "    </g>\n",
              "</svg>\n",
              "      </button>\n",
              "    </div>\n",
              "\n",
              "<style>\n",
              "  .colab-df-quickchart {\n",
              "    background-color: #E8F0FE;\n",
              "    border: none;\n",
              "    border-radius: 50%;\n",
              "    cursor: pointer;\n",
              "    display: none;\n",
              "    fill: #1967D2;\n",
              "    height: 32px;\n",
              "    padding: 0 0 0 0;\n",
              "    width: 32px;\n",
              "  }\n",
              "\n",
              "  .colab-df-quickchart:hover {\n",
              "    background-color: #E2EBFA;\n",
              "    box-shadow: 0px 1px 2px rgba(60, 64, 67, 0.3), 0px 1px 3px 1px rgba(60, 64, 67, 0.15);\n",
              "    fill: #174EA6;\n",
              "  }\n",
              "\n",
              "  [theme=dark] .colab-df-quickchart {\n",
              "    background-color: #3B4455;\n",
              "    fill: #D2E3FC;\n",
              "  }\n",
              "\n",
              "  [theme=dark] .colab-df-quickchart:hover {\n",
              "    background-color: #434B5C;\n",
              "    box-shadow: 0px 1px 3px 1px rgba(0, 0, 0, 0.15);\n",
              "    filter: drop-shadow(0px 1px 2px rgba(0, 0, 0, 0.3));\n",
              "    fill: #FFFFFF;\n",
              "  }\n",
              "</style>\n",
              "\n",
              "    <script>\n",
              "      async function quickchart(key) {\n",
              "        const containerElement = document.querySelector('#' + key);\n",
              "        const charts = await google.colab.kernel.invokeFunction(\n",
              "            'suggestCharts', [key], {});\n",
              "      }\n",
              "    </script>\n",
              "\n",
              "      <script>\n",
              "\n",
              "function displayQuickchartButton(domScope) {\n",
              "  let quickchartButtonEl =\n",
              "    domScope.querySelector('#df-144fa6a2-85f3-4175-bd6b-1af68c1e1f2e button.colab-df-quickchart');\n",
              "  quickchartButtonEl.style.display =\n",
              "    google.colab.kernel.accessAllowed ? 'block' : 'none';\n",
              "}\n",
              "\n",
              "        displayQuickchartButton(document);\n",
              "      </script>\n",
              "      <style>\n",
              "    .colab-df-container {\n",
              "      display:flex;\n",
              "      flex-wrap:wrap;\n",
              "      gap: 12px;\n",
              "    }\n",
              "\n",
              "    .colab-df-convert {\n",
              "      background-color: #E8F0FE;\n",
              "      border: none;\n",
              "      border-radius: 50%;\n",
              "      cursor: pointer;\n",
              "      display: none;\n",
              "      fill: #1967D2;\n",
              "      height: 32px;\n",
              "      padding: 0 0 0 0;\n",
              "      width: 32px;\n",
              "    }\n",
              "\n",
              "    .colab-df-convert:hover {\n",
              "      background-color: #E2EBFA;\n",
              "      box-shadow: 0px 1px 2px rgba(60, 64, 67, 0.3), 0px 1px 3px 1px rgba(60, 64, 67, 0.15);\n",
              "      fill: #174EA6;\n",
              "    }\n",
              "\n",
              "    [theme=dark] .colab-df-convert {\n",
              "      background-color: #3B4455;\n",
              "      fill: #D2E3FC;\n",
              "    }\n",
              "\n",
              "    [theme=dark] .colab-df-convert:hover {\n",
              "      background-color: #434B5C;\n",
              "      box-shadow: 0px 1px 3px 1px rgba(0, 0, 0, 0.15);\n",
              "      filter: drop-shadow(0px 1px 2px rgba(0, 0, 0, 0.3));\n",
              "      fill: #FFFFFF;\n",
              "    }\n",
              "  </style>\n",
              "\n",
              "      <script>\n",
              "        const buttonEl =\n",
              "          document.querySelector('#df-eb7f2f31-d9b8-4463-88e2-c1e0520f3981 button.colab-df-convert');\n",
              "        buttonEl.style.display =\n",
              "          google.colab.kernel.accessAllowed ? 'block' : 'none';\n",
              "\n",
              "        async function convertToInteractive(key) {\n",
              "          const element = document.querySelector('#df-eb7f2f31-d9b8-4463-88e2-c1e0520f3981');\n",
              "          const dataTable =\n",
              "            await google.colab.kernel.invokeFunction('convertToInteractive',\n",
              "                                                     [key], {});\n",
              "          if (!dataTable) return;\n",
              "\n",
              "          const docLinkHtml = 'Like what you see? Visit the ' +\n",
              "            '<a target=\"_blank\" href=https://colab.research.google.com/notebooks/data_table.ipynb>data table notebook</a>'\n",
              "            + ' to learn more about interactive tables.';\n",
              "          element.innerHTML = '';\n",
              "          dataTable['output_type'] = 'display_data';\n",
              "          await google.colab.output.renderOutput(dataTable, element);\n",
              "          const docLink = document.createElement('div');\n",
              "          docLink.innerHTML = docLinkHtml;\n",
              "          element.appendChild(docLink);\n",
              "        }\n",
              "      </script>\n",
              "    </div>\n",
              "  </div>\n"
            ]
          },
          "metadata": {},
          "execution_count": 60
        }
      ]
    },
    {
      "cell_type": "markdown",
      "source": [
        "---------------------------------------------------------------------------"
      ],
      "metadata": {
        "id": "FYKOd1Xz5iS_"
      },
      "id": "FYKOd1Xz5iS_"
    },
    {
      "cell_type": "markdown",
      "source": [
        "Add templates"
      ],
      "metadata": {
        "id": "pey1aKd-5gBe"
      },
      "id": "pey1aKd-5gBe"
    },
    {
      "cell_type": "code",
      "source": [
        "OVCtemplates = {'NOVC-HEV':  ['templates/Temp_NOVC_Monofuel.xml',\n",
        "                              'templates/Temp_NOVC_Bifuel.xml',\n",
        "                              'templates/Temp_NOVC_Trifuel.xml'],\n",
        "                'NOVC-FCHV': ['templates/Temp_NOVC-FCHV.xml'],\n",
        "                'OVC-HEV':   ['templates/Temp_OVC_Monofuel.xml',\n",
        "                              'templates/Temp_OVC_Bifuel.xml',\n",
        "                              'templates/Temp_OVC_Trifuel.xml'],\n",
        "                'OVC-FCHV':  ['templates/Temp_OVC-FCHV.xml']}\n",
        "\n",
        "noHybrid = ['templates/Temp_NoHybrid_Monofuel.xml',\n",
        "            'templates/Temp_NoHybrid_Bifuel.xml',\n",
        "            'templates/Temp_NoHybrid_Trifuel.xml']"
      ],
      "metadata": {
        "id": "kX-BE_1feq8u"
      },
      "id": "kX-BE_1feq8u",
      "execution_count": 29,
      "outputs": []
    },
    {
      "cell_type": "code",
      "source": [
        "fuelCodes = ['#FuelCode1', '#FuelCode2', '#FuelCode3']\n",
        "\n",
        "def chooseTemplate(row):\n",
        "  fuel = 0\n",
        "\n",
        "  # to check if it's mono-, bi- or trifuel\n",
        "  for fuelCode in fuelCodes:\n",
        "\n",
        "    if row[fuelCode] != '-' and row[fuelCode] != 0:\n",
        "      fuel += 1\n",
        "\n",
        "  cohvc = row['ClassOfHybridVehicleCode']\n",
        "\n",
        "  if 'OVC' in cohvc:\n",
        "    possibleTemplates = OVCtemplates[cohvc]\n",
        "\n",
        "    if len(possibleTemplates) > 1:\n",
        "      if fuel == 0:\n",
        "        return '!'\n",
        "      else:\n",
        "        return possibleTemplates[fuel-1]\n",
        "    else:\n",
        "      return possibleTemplates[0]\n",
        "\n",
        "  else:\n",
        "\n",
        "    fuelCode1 = row['#FuelCode1']\n",
        "    fuelCode4 = row['FuelCode4']\n",
        "\n",
        "    if fuelCode1 == 50 and fuelCode4 == '-':\n",
        "      return 'templates/Temp_Temp_WASSERSTOFF_W.xml'\n",
        "\n",
        "    elif fuelCode1 == 0:\n",
        "      return 'templates/Temp_REINELEKTRISCH_E.xml'\n",
        "\n",
        "    else:\n",
        "      if fuel == 0:\n",
        "        return '!'\n",
        "      else:\n",
        "        return noHybrid[fuel-1]\n"
      ],
      "metadata": {
        "id": "t46k0k5chaj2"
      },
      "id": "t46k0k5chaj2",
      "execution_count": 30,
      "outputs": []
    },
    {
      "cell_type": "code",
      "source": [
        "newDF['Template'] = '-'\n",
        "newDF = newDF[['Template', '#VIN', '#VehicleCategoryCode', 'ClassOfHybridVehicleCode',\n",
        "               '#FuelTypeCode', '#FuelCode1', '#FuelCode2', '#FuelCode3',\n",
        "               'FuelCode4', 'Info manueller Change in DB: vehicleNatureCode ']]"
      ],
      "metadata": {
        "id": "ALDT2iOKorxs"
      },
      "id": "ALDT2iOKorxs",
      "execution_count": 31,
      "outputs": []
    },
    {
      "cell_type": "code",
      "source": [
        "newDF['Template'] = newDF.apply(lambda row: chooseTemplate(row), axis=1)"
      ],
      "metadata": {
        "id": "aPEpgPRjo4v0"
      },
      "id": "aPEpgPRjo4v0",
      "execution_count": 32,
      "outputs": []
    },
    {
      "cell_type": "markdown",
      "source": [
        "----------------------------------------------------------------------------"
      ],
      "metadata": {
        "id": "5zSmkG3PfMnn"
      },
      "id": "5zSmkG3PfMnn"
    },
    {
      "cell_type": "markdown",
      "source": [
        "Drop rows where the VCC == M1 and VNC != '-'"
      ],
      "metadata": {
        "id": "11rL8EKWfMrS"
      },
      "id": "11rL8EKWfMrS"
    },
    {
      "cell_type": "code",
      "source": [
        "indx = newDF[(newDF['#VehicleCategoryCode']=='M1') & (newDF['Info manueller Change in DB: vehicleNatureCode ']!='-')].index\n",
        "newDF.drop(indx, inplace=True)"
      ],
      "metadata": {
        "id": "hz-0m8aRuq8v"
      },
      "id": "hz-0m8aRuq8v",
      "execution_count": 33,
      "outputs": []
    },
    {
      "cell_type": "code",
      "source": [
        "print('N1: ', newDF[newDF['#VehicleCategoryCode'] == 'N1']['Info manueller Change in DB: vehicleNatureCode '].unique())\n",
        "print('M1: ', newDF[newDF['#VehicleCategoryCode'] == 'M1']['Info manueller Change in DB: vehicleNatureCode '].unique())"
      ],
      "metadata": {
        "id": "NHGaEmiqvh2W",
        "outputId": "be210e9b-888e-46c7-c302-328dc17eb8a1",
        "colab": {
          "base_uri": "https://localhost:8080/"
        }
      },
      "id": "NHGaEmiqvh2W",
      "execution_count": 34,
      "outputs": [
        {
          "output_type": "stream",
          "name": "stdout",
          "text": [
            "N1:  ['-' '35' '38']\n",
            "M1:  ['-']\n"
          ]
        }
      ]
    },
    {
      "cell_type": "code",
      "source": [
        "len(newDF['#VIN'].unique())"
      ],
      "metadata": {
        "id": "5YZ5sFsY6BLs",
        "outputId": "761cb829-2723-4f22-e5f9-517e973b4348",
        "colab": {
          "base_uri": "https://localhost:8080/"
        }
      },
      "id": "5YZ5sFsY6BLs",
      "execution_count": 35,
      "outputs": [
        {
          "output_type": "execute_result",
          "data": {
            "text/plain": [
              "3000"
            ]
          },
          "metadata": {},
          "execution_count": 35
        }
      ]
    },
    {
      "cell_type": "markdown",
      "source": [
        "-------------------------------------------------------"
      ],
      "metadata": {
        "id": "UCPMpwNW6Nri"
      },
      "id": "UCPMpwNW6Nri"
    },
    {
      "cell_type": "code",
      "source": [
        "newDF[newDF['#FuelCode1']!=0]['#FuelCode2']"
      ],
      "metadata": {
        "id": "wt9bG9Z-68lk",
        "outputId": "f7e406a2-6d36-49e7-db51-f8fb46b19aab",
        "colab": {
          "base_uri": "https://localhost:8080/"
        }
      },
      "id": "wt9bG9Z-68lk",
      "execution_count": 40,
      "outputs": [
        {
          "output_type": "execute_result",
          "data": {
            "text/plain": [
              "0       40\n",
              "1       40\n",
              "2       40\n",
              "3       40\n",
              "4       40\n",
              "        ..\n",
              "8985     -\n",
              "8988     -\n",
              "8991     -\n",
              "8994     -\n",
              "8997     -\n",
              "Name: #FuelCode2, Length: 4800, dtype: object"
            ]
          },
          "metadata": {},
          "execution_count": 40
        }
      ]
    },
    {
      "cell_type": "code",
      "source": [
        "indx = newDF[(newDF['#FuelCode1']!=0) & (~newDF['#FuelCode2'].isin(['-', 0]))].index\n",
        "p = newDF.drop(indx)\n",
        "len(p['#VIN'].unique())"
      ],
      "metadata": {
        "id": "ycrXgqKK6PWM",
        "outputId": "4143f8f4-9188-42eb-d97f-b4bc4a7da0bd",
        "colab": {
          "base_uri": "https://localhost:8080/"
        }
      },
      "id": "ycrXgqKK6PWM",
      "execution_count": 38,
      "outputs": [
        {
          "output_type": "execute_result",
          "data": {
            "text/plain": [
              "1800"
            ]
          },
          "metadata": {},
          "execution_count": 38
        }
      ]
    },
    {
      "cell_type": "code",
      "source": [],
      "metadata": {
        "id": "5SSrUCXb6sOo"
      },
      "id": "5SSrUCXb6sOo",
      "execution_count": null,
      "outputs": []
    },
    {
      "cell_type": "markdown",
      "source": [
        "---------------------------------------------------"
      ],
      "metadata": {
        "id": "TyeomHM_bQVN"
      },
      "id": "TyeomHM_bQVN"
    },
    {
      "cell_type": "markdown",
      "source": [
        "Check if the number of fuel codes present and the fuel type code match, remove the rows where it does not."
      ],
      "metadata": {
        "id": "Z-23YxkmcO8z"
      },
      "id": "Z-23YxkmcO8z"
    },
    {
      "cell_type": "code",
      "source": [
        "fuelTypeCodes = {'-': 0, 'M': 1, 'B': 2, 'D': 2, 'T': 3}\n",
        "toDrop = []\n",
        "\n",
        "for index, row in newDF.iterrows():\n",
        "\n",
        "  #print(index)\n",
        "\n",
        "  fuel = 0\n",
        "\n",
        "  # to check if it's mono-, bi- or trifuel\n",
        "  for fuelCode in fuelCodes:\n",
        "\n",
        "    if row[fuelCode] != '-' and row[fuelCode] != 0:\n",
        "        fuel += 1\n",
        "\n",
        "  if fuelTypeCodes[row['#FuelTypeCode']] != fuel:\n",
        "    toDrop.append(index)"
      ],
      "metadata": {
        "id": "ayZ2els1cisM"
      },
      "id": "ayZ2els1cisM",
      "execution_count": 14,
      "outputs": []
    },
    {
      "cell_type": "code",
      "source": [],
      "metadata": {
        "id": "YQ5lrBqR1UWE"
      },
      "id": "YQ5lrBqR1UWE",
      "execution_count": 14,
      "outputs": []
    },
    {
      "cell_type": "markdown",
      "source": [
        "-----------------------------------------------------------------"
      ],
      "metadata": {
        "id": "L8-1IKRScbH3"
      },
      "id": "L8-1IKRScbH3"
    },
    {
      "cell_type": "code",
      "source": [
        "t = newDF.drop(toDrop, inplace=False) # if ok, return True"
      ],
      "metadata": {
        "id": "lKOfDdrNhNIA"
      },
      "id": "lKOfDdrNhNIA",
      "execution_count": 19,
      "outputs": []
    },
    {
      "cell_type": "markdown",
      "source": [
        "-------------------------------------------------------------------------------------------------"
      ],
      "metadata": {
        "id": "zz9xwCYd2auN"
      },
      "id": "zz9xwCYd2auN"
    },
    {
      "cell_type": "markdown",
      "source": [
        "Save file"
      ],
      "metadata": {
        "id": "Mh3DdnX65Dju"
      },
      "id": "Mh3DdnX65Dju"
    },
    {
      "cell_type": "code",
      "source": [
        "newDF.to_csv('allPossibleCombinations.csv', index=False)"
      ],
      "metadata": {
        "id": "RhIQPI3W4rpS"
      },
      "id": "RhIQPI3W4rpS",
      "execution_count": 16,
      "outputs": []
    },
    {
      "cell_type": "code",
      "source": [
        "len(t['#VIN'].unique())"
      ],
      "metadata": {
        "id": "G9QX-_1F42x3",
        "outputId": "56f1cdfd-e15e-48d4-c24a-a0b43231ae25",
        "colab": {
          "base_uri": "https://localhost:8080/"
        }
      },
      "id": "G9QX-_1F42x3",
      "execution_count": 20,
      "outputs": [
        {
          "output_type": "execute_result",
          "data": {
            "text/plain": [
              "880"
            ]
          },
          "metadata": {},
          "execution_count": 20
        }
      ]
    },
    {
      "cell_type": "code",
      "source": [],
      "metadata": {
        "id": "ON7sgEkH43oD"
      },
      "id": "ON7sgEkH43oD",
      "execution_count": null,
      "outputs": []
    }
  ],
  "metadata": {
    "kernelspec": {
      "display_name": "Python 3 (ipykernel)",
      "language": "python",
      "name": "python3"
    },
    "language_info": {
      "codemirror_mode": {
        "name": "ipython",
        "version": 3
      },
      "file_extension": ".py",
      "mimetype": "text/x-python",
      "name": "python",
      "nbconvert_exporter": "python",
      "pygments_lexer": "ipython3",
      "version": "3.8.10"
    },
    "colab": {
      "provenance": []
    }
  },
  "nbformat": 4,
  "nbformat_minor": 5
}