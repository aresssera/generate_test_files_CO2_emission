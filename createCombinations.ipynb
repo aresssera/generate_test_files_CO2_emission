{
  "cells": [
    {
      "cell_type": "code",
      "source": [
        "import pandas as pd # 0.23.0\n",
        "import numpy as np"
      ],
      "metadata": {
        "id": "65Qr9ip3uvh4"
      },
      "id": "65Qr9ip3uvh4",
      "execution_count": 2,
      "outputs": []
    },
    {
      "cell_type": "code",
      "source": [
        "fileName = 'combinations.csv'\n",
        "df = pd.read_csv(fileName)\n",
        "df"
      ],
      "metadata": {
        "colab": {
          "base_uri": "https://localhost:8080/",
          "height": 1000
        },
        "id": "pFKmceXeaP_m",
        "outputId": "71c9a146-4be5-4565-bb01-36e40e3db284"
      },
      "id": "pFKmceXeaP_m",
      "execution_count": 24,
      "outputs": [
        {
          "output_type": "execute_result",
          "data": {
            "text/plain": [
              "                              Template               #VIN  \\\n",
              "0   templates/Temp_NoHybrid_Bifuel.xml  BFE01emptyB1040$$   \n",
              "1        templates/Temp_OVC_Bifuel.xml  BFE01vchevB10400$   \n",
              "2       templates/Temp_NOVC_Bifuel.xml  BFE01nchevB10400$   \n",
              "3   templates/Temp_NoHybrid_Bifuel.xml  BFE38emptyB1040$$   \n",
              "4        templates/Temp_OVC_Bifuel.xml  BFE38vchevB10400$   \n",
              "..                                 ...                ...   \n",
              "58    templates/Temp_NOVC_Monofuel.xml  BFE01nchevM20$$0$   \n",
              "59     templates/Temp_OVC_Monofuel.xml  BFE38vchevM20$$0$   \n",
              "60    templates/Temp_NOVC_Monofuel.xml  BFE38nchevM20$$0$   \n",
              "61     templates/Temp_OVC_Monofuel.xml  BFE30vchevM20$$0$   \n",
              "62    templates/Temp_NOVC_Monofuel.xml  BFE30nchevM20$$0$   \n",
              "\n",
              "   #VehicleCategoryCode ClassOfHybridVehicleCode #FuelTypeCode  #FuelCode1  \\\n",
              "0                    N1                    Empty             B          10   \n",
              "1                    N1                  OVC-HEV             B          10   \n",
              "2                    N1                 NOVC-HEV             B          10   \n",
              "3                    N1                    Empty             B          10   \n",
              "4                    N1                  OVC-HEV             B          10   \n",
              "..                  ...                      ...           ...         ...   \n",
              "58                   N1                 NOVC-HEV             M          20   \n",
              "59                   N1                  OVC-HEV             M          20   \n",
              "60                   N1                 NOVC-HEV             M          20   \n",
              "61                   M1                  OVC-HEV             M          20   \n",
              "62                   M1                 NOVC-HEV             M          20   \n",
              "\n",
              "   #FuelCode2 #FuelCode3 FuelCode4  \\\n",
              "0          40          -         -   \n",
              "1          40          0         -   \n",
              "2          40          0         -   \n",
              "3          40          -         -   \n",
              "4          40          0         -   \n",
              "..        ...        ...       ...   \n",
              "58          -          0         -   \n",
              "59          -          0         -   \n",
              "60          -          0         -   \n",
              "61          -          0         -   \n",
              "62          -          0         -   \n",
              "\n",
              "   Info manueller Change in DB: vehicleNatureCode   \\\n",
              "0                                                -   \n",
              "1                                                -   \n",
              "2                                                -   \n",
              "3                                               38   \n",
              "4                                               38   \n",
              "..                                             ...   \n",
              "58                                               -   \n",
              "59                                              38   \n",
              "60                                              38   \n",
              "61                                               -   \n",
              "62                                               -   \n",
              "\n",
              "                                  Bemerkung  \n",
              "0   BI-Fuel, tstof Y, Erdgas (CNG) / Benzin  \n",
              "1   BI-Fuel, tstof Y, Erdgas (CNG) / Benzin  \n",
              "2   BI-Fuel, tstof Y, Erdgas (CNG) / Benzin  \n",
              "3   BI-Fuel, tstof Y, Erdgas (CNG) / Benzin  \n",
              "4   BI-Fuel, tstof Y, Erdgas (CNG) / Benzin  \n",
              "..                                      ...  \n",
              "58   Mono-Fuel, Diesel/ elektrisch, tstof F  \n",
              "59   Mono-Fuel, Diesel/ elektrisch, tstof F  \n",
              "60   Mono-Fuel, Diesel/ elektrisch, tstof F  \n",
              "61   Mono-Fuel, Diesel/ elektrisch, tstof F  \n",
              "62   Mono-Fuel, Diesel/ elektrisch, tstof F  \n",
              "\n",
              "[63 rows x 11 columns]"
            ],
            "text/html": [
              "\n",
              "\n",
              "  <div id=\"df-a70b90c2-7852-482e-8bbd-52968bbe09d4\">\n",
              "    <div class=\"colab-df-container\">\n",
              "      <div>\n",
              "<style scoped>\n",
              "    .dataframe tbody tr th:only-of-type {\n",
              "        vertical-align: middle;\n",
              "    }\n",
              "\n",
              "    .dataframe tbody tr th {\n",
              "        vertical-align: top;\n",
              "    }\n",
              "\n",
              "    .dataframe thead th {\n",
              "        text-align: right;\n",
              "    }\n",
              "</style>\n",
              "<table border=\"1\" class=\"dataframe\">\n",
              "  <thead>\n",
              "    <tr style=\"text-align: right;\">\n",
              "      <th></th>\n",
              "      <th>Template</th>\n",
              "      <th>#VIN</th>\n",
              "      <th>#VehicleCategoryCode</th>\n",
              "      <th>ClassOfHybridVehicleCode</th>\n",
              "      <th>#FuelTypeCode</th>\n",
              "      <th>#FuelCode1</th>\n",
              "      <th>#FuelCode2</th>\n",
              "      <th>#FuelCode3</th>\n",
              "      <th>FuelCode4</th>\n",
              "      <th>Info manueller Change in DB: vehicleNatureCode</th>\n",
              "      <th>Bemerkung</th>\n",
              "    </tr>\n",
              "  </thead>\n",
              "  <tbody>\n",
              "    <tr>\n",
              "      <th>0</th>\n",
              "      <td>templates/Temp_NoHybrid_Bifuel.xml</td>\n",
              "      <td>BFE01emptyB1040$$</td>\n",
              "      <td>N1</td>\n",
              "      <td>Empty</td>\n",
              "      <td>B</td>\n",
              "      <td>10</td>\n",
              "      <td>40</td>\n",
              "      <td>-</td>\n",
              "      <td>-</td>\n",
              "      <td>-</td>\n",
              "      <td>BI-Fuel, tstof Y, Erdgas (CNG) / Benzin</td>\n",
              "    </tr>\n",
              "    <tr>\n",
              "      <th>1</th>\n",
              "      <td>templates/Temp_OVC_Bifuel.xml</td>\n",
              "      <td>BFE01vchevB10400$</td>\n",
              "      <td>N1</td>\n",
              "      <td>OVC-HEV</td>\n",
              "      <td>B</td>\n",
              "      <td>10</td>\n",
              "      <td>40</td>\n",
              "      <td>0</td>\n",
              "      <td>-</td>\n",
              "      <td>-</td>\n",
              "      <td>BI-Fuel, tstof Y, Erdgas (CNG) / Benzin</td>\n",
              "    </tr>\n",
              "    <tr>\n",
              "      <th>2</th>\n",
              "      <td>templates/Temp_NOVC_Bifuel.xml</td>\n",
              "      <td>BFE01nchevB10400$</td>\n",
              "      <td>N1</td>\n",
              "      <td>NOVC-HEV</td>\n",
              "      <td>B</td>\n",
              "      <td>10</td>\n",
              "      <td>40</td>\n",
              "      <td>0</td>\n",
              "      <td>-</td>\n",
              "      <td>-</td>\n",
              "      <td>BI-Fuel, tstof Y, Erdgas (CNG) / Benzin</td>\n",
              "    </tr>\n",
              "    <tr>\n",
              "      <th>3</th>\n",
              "      <td>templates/Temp_NoHybrid_Bifuel.xml</td>\n",
              "      <td>BFE38emptyB1040$$</td>\n",
              "      <td>N1</td>\n",
              "      <td>Empty</td>\n",
              "      <td>B</td>\n",
              "      <td>10</td>\n",
              "      <td>40</td>\n",
              "      <td>-</td>\n",
              "      <td>-</td>\n",
              "      <td>38</td>\n",
              "      <td>BI-Fuel, tstof Y, Erdgas (CNG) / Benzin</td>\n",
              "    </tr>\n",
              "    <tr>\n",
              "      <th>4</th>\n",
              "      <td>templates/Temp_OVC_Bifuel.xml</td>\n",
              "      <td>BFE38vchevB10400$</td>\n",
              "      <td>N1</td>\n",
              "      <td>OVC-HEV</td>\n",
              "      <td>B</td>\n",
              "      <td>10</td>\n",
              "      <td>40</td>\n",
              "      <td>0</td>\n",
              "      <td>-</td>\n",
              "      <td>38</td>\n",
              "      <td>BI-Fuel, tstof Y, Erdgas (CNG) / Benzin</td>\n",
              "    </tr>\n",
              "    <tr>\n",
              "      <th>...</th>\n",
              "      <td>...</td>\n",
              "      <td>...</td>\n",
              "      <td>...</td>\n",
              "      <td>...</td>\n",
              "      <td>...</td>\n",
              "      <td>...</td>\n",
              "      <td>...</td>\n",
              "      <td>...</td>\n",
              "      <td>...</td>\n",
              "      <td>...</td>\n",
              "      <td>...</td>\n",
              "    </tr>\n",
              "    <tr>\n",
              "      <th>58</th>\n",
              "      <td>templates/Temp_NOVC_Monofuel.xml</td>\n",
              "      <td>BFE01nchevM20$$0$</td>\n",
              "      <td>N1</td>\n",
              "      <td>NOVC-HEV</td>\n",
              "      <td>M</td>\n",
              "      <td>20</td>\n",
              "      <td>-</td>\n",
              "      <td>0</td>\n",
              "      <td>-</td>\n",
              "      <td>-</td>\n",
              "      <td>Mono-Fuel, Diesel/ elektrisch, tstof F</td>\n",
              "    </tr>\n",
              "    <tr>\n",
              "      <th>59</th>\n",
              "      <td>templates/Temp_OVC_Monofuel.xml</td>\n",
              "      <td>BFE38vchevM20$$0$</td>\n",
              "      <td>N1</td>\n",
              "      <td>OVC-HEV</td>\n",
              "      <td>M</td>\n",
              "      <td>20</td>\n",
              "      <td>-</td>\n",
              "      <td>0</td>\n",
              "      <td>-</td>\n",
              "      <td>38</td>\n",
              "      <td>Mono-Fuel, Diesel/ elektrisch, tstof F</td>\n",
              "    </tr>\n",
              "    <tr>\n",
              "      <th>60</th>\n",
              "      <td>templates/Temp_NOVC_Monofuel.xml</td>\n",
              "      <td>BFE38nchevM20$$0$</td>\n",
              "      <td>N1</td>\n",
              "      <td>NOVC-HEV</td>\n",
              "      <td>M</td>\n",
              "      <td>20</td>\n",
              "      <td>-</td>\n",
              "      <td>0</td>\n",
              "      <td>-</td>\n",
              "      <td>38</td>\n",
              "      <td>Mono-Fuel, Diesel/ elektrisch, tstof F</td>\n",
              "    </tr>\n",
              "    <tr>\n",
              "      <th>61</th>\n",
              "      <td>templates/Temp_OVC_Monofuel.xml</td>\n",
              "      <td>BFE30vchevM20$$0$</td>\n",
              "      <td>M1</td>\n",
              "      <td>OVC-HEV</td>\n",
              "      <td>M</td>\n",
              "      <td>20</td>\n",
              "      <td>-</td>\n",
              "      <td>0</td>\n",
              "      <td>-</td>\n",
              "      <td>-</td>\n",
              "      <td>Mono-Fuel, Diesel/ elektrisch, tstof F</td>\n",
              "    </tr>\n",
              "    <tr>\n",
              "      <th>62</th>\n",
              "      <td>templates/Temp_NOVC_Monofuel.xml</td>\n",
              "      <td>BFE30nchevM20$$0$</td>\n",
              "      <td>M1</td>\n",
              "      <td>NOVC-HEV</td>\n",
              "      <td>M</td>\n",
              "      <td>20</td>\n",
              "      <td>-</td>\n",
              "      <td>0</td>\n",
              "      <td>-</td>\n",
              "      <td>-</td>\n",
              "      <td>Mono-Fuel, Diesel/ elektrisch, tstof F</td>\n",
              "    </tr>\n",
              "  </tbody>\n",
              "</table>\n",
              "<p>63 rows × 11 columns</p>\n",
              "</div>\n",
              "      <button class=\"colab-df-convert\" onclick=\"convertToInteractive('df-a70b90c2-7852-482e-8bbd-52968bbe09d4')\"\n",
              "              title=\"Convert this dataframe to an interactive table.\"\n",
              "              style=\"display:none;\">\n",
              "\n",
              "  <svg xmlns=\"http://www.w3.org/2000/svg\" height=\"24px\"viewBox=\"0 0 24 24\"\n",
              "       width=\"24px\">\n",
              "    <path d=\"M0 0h24v24H0V0z\" fill=\"none\"/>\n",
              "    <path d=\"M18.56 5.44l.94 2.06.94-2.06 2.06-.94-2.06-.94-.94-2.06-.94 2.06-2.06.94zm-11 1L8.5 8.5l.94-2.06 2.06-.94-2.06-.94L8.5 2.5l-.94 2.06-2.06.94zm10 10l.94 2.06.94-2.06 2.06-.94-2.06-.94-.94-2.06-.94 2.06-2.06.94z\"/><path d=\"M17.41 7.96l-1.37-1.37c-.4-.4-.92-.59-1.43-.59-.52 0-1.04.2-1.43.59L10.3 9.45l-7.72 7.72c-.78.78-.78 2.05 0 2.83L4 21.41c.39.39.9.59 1.41.59.51 0 1.02-.2 1.41-.59l7.78-7.78 2.81-2.81c.8-.78.8-2.07 0-2.86zM5.41 20L4 18.59l7.72-7.72 1.47 1.35L5.41 20z\"/>\n",
              "  </svg>\n",
              "      </button>\n",
              "\n",
              "\n",
              "\n",
              "    <div id=\"df-1e244075-6d7e-45bd-a400-5bb862342099\">\n",
              "      <button class=\"colab-df-quickchart\" onclick=\"quickchart('df-1e244075-6d7e-45bd-a400-5bb862342099')\"\n",
              "              title=\"Suggest charts.\"\n",
              "              style=\"display:none;\">\n",
              "\n",
              "<svg xmlns=\"http://www.w3.org/2000/svg\" height=\"24px\"viewBox=\"0 0 24 24\"\n",
              "     width=\"24px\">\n",
              "    <g>\n",
              "        <path d=\"M19 3H5c-1.1 0-2 .9-2 2v14c0 1.1.9 2 2 2h14c1.1 0 2-.9 2-2V5c0-1.1-.9-2-2-2zM9 17H7v-7h2v7zm4 0h-2V7h2v10zm4 0h-2v-4h2v4z\"/>\n",
              "    </g>\n",
              "</svg>\n",
              "      </button>\n",
              "    </div>\n",
              "\n",
              "<style>\n",
              "  .colab-df-quickchart {\n",
              "    background-color: #E8F0FE;\n",
              "    border: none;\n",
              "    border-radius: 50%;\n",
              "    cursor: pointer;\n",
              "    display: none;\n",
              "    fill: #1967D2;\n",
              "    height: 32px;\n",
              "    padding: 0 0 0 0;\n",
              "    width: 32px;\n",
              "  }\n",
              "\n",
              "  .colab-df-quickchart:hover {\n",
              "    background-color: #E2EBFA;\n",
              "    box-shadow: 0px 1px 2px rgba(60, 64, 67, 0.3), 0px 1px 3px 1px rgba(60, 64, 67, 0.15);\n",
              "    fill: #174EA6;\n",
              "  }\n",
              "\n",
              "  [theme=dark] .colab-df-quickchart {\n",
              "    background-color: #3B4455;\n",
              "    fill: #D2E3FC;\n",
              "  }\n",
              "\n",
              "  [theme=dark] .colab-df-quickchart:hover {\n",
              "    background-color: #434B5C;\n",
              "    box-shadow: 0px 1px 3px 1px rgba(0, 0, 0, 0.15);\n",
              "    filter: drop-shadow(0px 1px 2px rgba(0, 0, 0, 0.3));\n",
              "    fill: #FFFFFF;\n",
              "  }\n",
              "</style>\n",
              "\n",
              "    <script>\n",
              "      async function quickchart(key) {\n",
              "        const containerElement = document.querySelector('#' + key);\n",
              "        const charts = await google.colab.kernel.invokeFunction(\n",
              "            'suggestCharts', [key], {});\n",
              "      }\n",
              "    </script>\n",
              "\n",
              "      <script>\n",
              "\n",
              "function displayQuickchartButton(domScope) {\n",
              "  let quickchartButtonEl =\n",
              "    domScope.querySelector('#df-1e244075-6d7e-45bd-a400-5bb862342099 button.colab-df-quickchart');\n",
              "  quickchartButtonEl.style.display =\n",
              "    google.colab.kernel.accessAllowed ? 'block' : 'none';\n",
              "}\n",
              "\n",
              "        displayQuickchartButton(document);\n",
              "      </script>\n",
              "      <style>\n",
              "    .colab-df-container {\n",
              "      display:flex;\n",
              "      flex-wrap:wrap;\n",
              "      gap: 12px;\n",
              "    }\n",
              "\n",
              "    .colab-df-convert {\n",
              "      background-color: #E8F0FE;\n",
              "      border: none;\n",
              "      border-radius: 50%;\n",
              "      cursor: pointer;\n",
              "      display: none;\n",
              "      fill: #1967D2;\n",
              "      height: 32px;\n",
              "      padding: 0 0 0 0;\n",
              "      width: 32px;\n",
              "    }\n",
              "\n",
              "    .colab-df-convert:hover {\n",
              "      background-color: #E2EBFA;\n",
              "      box-shadow: 0px 1px 2px rgba(60, 64, 67, 0.3), 0px 1px 3px 1px rgba(60, 64, 67, 0.15);\n",
              "      fill: #174EA6;\n",
              "    }\n",
              "\n",
              "    [theme=dark] .colab-df-convert {\n",
              "      background-color: #3B4455;\n",
              "      fill: #D2E3FC;\n",
              "    }\n",
              "\n",
              "    [theme=dark] .colab-df-convert:hover {\n",
              "      background-color: #434B5C;\n",
              "      box-shadow: 0px 1px 3px 1px rgba(0, 0, 0, 0.15);\n",
              "      filter: drop-shadow(0px 1px 2px rgba(0, 0, 0, 0.3));\n",
              "      fill: #FFFFFF;\n",
              "    }\n",
              "  </style>\n",
              "\n",
              "      <script>\n",
              "        const buttonEl =\n",
              "          document.querySelector('#df-a70b90c2-7852-482e-8bbd-52968bbe09d4 button.colab-df-convert');\n",
              "        buttonEl.style.display =\n",
              "          google.colab.kernel.accessAllowed ? 'block' : 'none';\n",
              "\n",
              "        async function convertToInteractive(key) {\n",
              "          const element = document.querySelector('#df-a70b90c2-7852-482e-8bbd-52968bbe09d4');\n",
              "          const dataTable =\n",
              "            await google.colab.kernel.invokeFunction('convertToInteractive',\n",
              "                                                     [key], {});\n",
              "          if (!dataTable) return;\n",
              "\n",
              "          const docLinkHtml = 'Like what you see? Visit the ' +\n",
              "            '<a target=\"_blank\" href=https://colab.research.google.com/notebooks/data_table.ipynb>data table notebook</a>'\n",
              "            + ' to learn more about interactive tables.';\n",
              "          element.innerHTML = '';\n",
              "          dataTable['output_type'] = 'display_data';\n",
              "          await google.colab.output.renderOutput(dataTable, element);\n",
              "          const docLink = document.createElement('div');\n",
              "          docLink.innerHTML = docLinkHtml;\n",
              "          element.appendChild(docLink);\n",
              "        }\n",
              "      </script>\n",
              "    </div>\n",
              "  </div>\n"
            ]
          },
          "metadata": {},
          "execution_count": 24
        }
      ]
    },
    {
      "cell_type": "code",
      "source": [
        "cols = ['#VehicleCategoryCode', 'ClassOfHybridVehicleCode',\n",
        "        '#FuelTypeCode', '#FuelCode1', '#FuelCode2', '#FuelCode3',\n",
        "        'FuelCode4', 'Info manueller Change in DB: vehicleNatureCode ']\n",
        "\n",
        "allLists = []\n",
        "\n",
        "for col in cols:\n",
        "  allLists.append(df[col].unique())\n",
        "  print(df[col].unique())\n",
        "\n",
        "len(allLists)\n",
        "allLists[7] = ['-', '35', '38']"
      ],
      "metadata": {
        "id": "JX3yYWX2cFEH",
        "colab": {
          "base_uri": "https://localhost:8080/"
        },
        "outputId": "008a3ecc-c533-4ba4-df9a-133744ecbf46"
      },
      "id": "JX3yYWX2cFEH",
      "execution_count": 25,
      "outputs": [
        {
          "output_type": "stream",
          "name": "stdout",
          "text": [
            "['N1' 'M1']\n",
            "['Empty' 'OVC-HEV' 'NOVC-HEV' 'OVC-FCHV' 'NOVC-FCHV']\n",
            "['B' 'T' 'M' '-' 'D']\n",
            "[10 50  0 40 20]\n",
            "['40' '-']\n",
            "['-' '0' '44']\n",
            "['-' '0']\n",
            "['-' '38']\n"
          ]
        }
      ]
    },
    {
      "cell_type": "code",
      "source": [
        "newDF = pd.DataFrame(columns=cols)\n",
        "\n",
        "for a in allLists[0]:\n",
        "  for b in allLists[1]:\n",
        "    for c in allLists[2]:\n",
        "      for d in allLists[3]:\n",
        "        for e in allLists[4]:\n",
        "          for f in allLists[5]:\n",
        "            for g in allLists[6]:\n",
        "              for h in allLists[7]:\n",
        "\n",
        "                car = [a, b, c, d, e, f, g, h]\n",
        "                newDF.loc[len(newDF)] = car"
      ],
      "metadata": {
        "id": "Yg4pLH90dmjo"
      },
      "id": "Yg4pLH90dmjo",
      "execution_count": 26,
      "outputs": []
    },
    {
      "cell_type": "markdown",
      "source": [
        "---------------------------------------"
      ],
      "metadata": {
        "id": "oSscECAa88sc"
      },
      "id": "oSscECAa88sc"
    },
    {
      "cell_type": "code",
      "source": [
        "newDF['#VIN'] = '-'\n",
        "newDF = newDF[['#VIN', '#VehicleCategoryCode', 'ClassOfHybridVehicleCode',\n",
        "               '#FuelTypeCode', '#FuelCode1', '#FuelCode2', '#FuelCode3',\n",
        "               'FuelCode4', 'Info manueller Change in DB: vehicleNatureCode ']]"
      ],
      "metadata": {
        "id": "wN6S45Gtan6z"
      },
      "id": "wN6S45Gtan6z",
      "execution_count": 27,
      "outputs": []
    },
    {
      "cell_type": "code",
      "source": [
        "# map the following values\n",
        "dict_VCC = {'N1': '01', 'M1': '30'} # 35 and 38 need to be mapped\n",
        "dict_CHVC = {'Empty': 'empty', 'OVC-HEV': 'vchev',\n",
        "             'NOVC-HEV': 'nchev', 'OVC-FCHV': 'cfchv',\n",
        "             'NOVC-FCHV': 'nfchv'}\n",
        "\n",
        "\n",
        "def createVIN(row):\n",
        "\n",
        "  emptyElement = 'x'\n",
        "\n",
        "  newVIN = 'BFE'\n",
        "\n",
        "  # check for N1\n",
        "  vcc = row['#VehicleCategoryCode']\n",
        "\n",
        "  if vcc == 'N1':\n",
        "\n",
        "    com = row['Info manueller Change in DB: vehicleNatureCode ']\n",
        "\n",
        "    if com  != '-':\n",
        "      newVIN = newVIN + com\n",
        "    else:\n",
        "      newVIN = newVIN + dict_VCC[vcc]\n",
        "  else:\n",
        "    newVIN = newVIN + dict_VCC[vcc]\n",
        "\n",
        "\n",
        "  newVIN = newVIN + dict_CHVC[row['ClassOfHybridVehicleCode']]\n",
        "\n",
        "\n",
        "  fuelTypeCode = row['#FuelTypeCode']\n",
        "\n",
        "  if fuelTypeCode == '-':\n",
        "    newVIN = newVIN + emptyElement\n",
        "  else:\n",
        "    newVIN = newVIN + fuelTypeCode\n",
        "\n",
        "  for col in ['#FuelCode1','#FuelCode2', '#FuelCode3']:\n",
        "\n",
        "    val = str(row[col])\n",
        "\n",
        "    if len(val) < 2:\n",
        "      if val == '-':\n",
        "        val = emptyElement + emptyElement\n",
        "      else:\n",
        "        val = val + emptyElement\n",
        "\n",
        "    newVIN = newVIN + val\n",
        "\n",
        "  return newVIN"
      ],
      "metadata": {
        "id": "1T6IHFn0au-X"
      },
      "id": "1T6IHFn0au-X",
      "execution_count": 28,
      "outputs": []
    },
    {
      "cell_type": "code",
      "source": [
        "newDF['#VIN'] = newDF.apply(lambda row: createVIN(row), axis=1)\n"
      ],
      "metadata": {
        "id": "ZFgAttyQa7R-"
      },
      "id": "ZFgAttyQa7R-",
      "execution_count": 29,
      "outputs": []
    },
    {
      "cell_type": "markdown",
      "source": [
        "---------------------------------------"
      ],
      "metadata": {
        "id": "1cmnjniValyx"
      },
      "id": "1cmnjniValyx"
    },
    {
      "cell_type": "code",
      "source": [
        "indx = newDF[(newDF['#VehicleCategoryCode']=='M1') & (newDF['Info manueller Change in DB: vehicleNatureCode ']!='-')].index\n",
        "newDF.drop(indx, inplace=True)"
      ],
      "metadata": {
        "id": "jsBF2Qn-89ZM"
      },
      "id": "jsBF2Qn-89ZM",
      "execution_count": 30,
      "outputs": []
    },
    {
      "cell_type": "code",
      "source": [
        "print('N1: ', newDF[newDF['#VehicleCategoryCode'] == 'N1']['Info manueller Change in DB: vehicleNatureCode '].unique())\n",
        "print('M1: ', newDF[newDF['#VehicleCategoryCode'] == 'M1']['Info manueller Change in DB: vehicleNatureCode '].unique())"
      ],
      "metadata": {
        "colab": {
          "base_uri": "https://localhost:8080/"
        },
        "id": "ZGKeVljV9EKx",
        "outputId": "e0a69f5d-1ce7-4253-c3a4-2beca4f57de6"
      },
      "id": "ZGKeVljV9EKx",
      "execution_count": 31,
      "outputs": [
        {
          "output_type": "stream",
          "name": "stdout",
          "text": [
            "N1:  ['-' '35' '38']\n",
            "M1:  ['-']\n"
          ]
        }
      ]
    },
    {
      "cell_type": "code",
      "source": [
        "len(newDF)"
      ],
      "metadata": {
        "colab": {
          "base_uri": "https://localhost:8080/"
        },
        "id": "BsVRFIm09JM-",
        "outputId": "b1fe3b0e-443c-4930-d9fd-543251e77801"
      },
      "id": "BsVRFIm09JM-",
      "execution_count": 32,
      "outputs": [
        {
          "output_type": "execute_result",
          "data": {
            "text/plain": [
              "6000"
            ]
          },
          "metadata": {},
          "execution_count": 32
        }
      ]
    },
    {
      "cell_type": "code",
      "source": [
        "len(newDF['#VIN'].unique())"
      ],
      "metadata": {
        "id": "u6rcz-9Xaef5",
        "outputId": "889ddf56-2652-4406-b893-4455cfc02ab4",
        "colab": {
          "base_uri": "https://localhost:8080/"
        }
      },
      "id": "u6rcz-9Xaef5",
      "execution_count": 33,
      "outputs": [
        {
          "output_type": "execute_result",
          "data": {
            "text/plain": [
              "3000"
            ]
          },
          "metadata": {},
          "execution_count": 33
        }
      ]
    },
    {
      "cell_type": "markdown",
      "source": [
        "-------------------------------------------------------------\n"
      ],
      "metadata": {
        "id": "p-NxoEXA9svq"
      },
      "id": "p-NxoEXA9svq"
    },
    {
      "cell_type": "markdown",
      "source": [
        "_Empty_ cannot have a fuelCode4 == 0"
      ],
      "metadata": {
        "id": "7n-80Kw1-8SX"
      },
      "id": "7n-80Kw1-8SX"
    },
    {
      "cell_type": "code",
      "source": [
        "tmp = newDF[newDF['ClassOfHybridVehicleCode'] == 'Empty'].copy()\n",
        "\n",
        "toDrop = []\n",
        "\n",
        "for index, row in tmp.iterrows():\n",
        "\n",
        "  fuelCode4 = row['FuelCode4']\n",
        "  fuelCode3 = row['#FuelCode3']\n",
        "\n",
        "  if fuelCode4 == '0':\n",
        "    toDrop.append(index)\n",
        "    continue"
      ],
      "metadata": {
        "id": "xhA6dYgR9ufT"
      },
      "id": "xhA6dYgR9ufT",
      "execution_count": 34,
      "outputs": []
    },
    {
      "cell_type": "code",
      "source": [
        "newDF.drop(toDrop, inplace=True)"
      ],
      "metadata": {
        "id": "VCZ5gkJuA_s_"
      },
      "id": "VCZ5gkJuA_s_",
      "execution_count": 35,
      "outputs": []
    },
    {
      "cell_type": "code",
      "source": [
        "len(newDF)"
      ],
      "metadata": {
        "colab": {
          "base_uri": "https://localhost:8080/"
        },
        "id": "8ndvpTHlDEbX",
        "outputId": "d6ea0b9d-93f2-484e-bdca-d2120073ec9e"
      },
      "id": "8ndvpTHlDEbX",
      "execution_count": 36,
      "outputs": [
        {
          "output_type": "execute_result",
          "data": {
            "text/plain": [
              "5400"
            ]
          },
          "metadata": {},
          "execution_count": 36
        }
      ]
    },
    {
      "cell_type": "code",
      "source": [
        "len(newDF['#VIN'].unique())"
      ],
      "metadata": {
        "id": "3WUFgON8cF_v",
        "outputId": "00c9b4f9-ca3c-40ec-b93c-620b40ce8a05",
        "colab": {
          "base_uri": "https://localhost:8080/"
        }
      },
      "id": "3WUFgON8cF_v",
      "execution_count": 37,
      "outputs": [
        {
          "output_type": "execute_result",
          "data": {
            "text/plain": [
              "3000"
            ]
          },
          "metadata": {},
          "execution_count": 37
        }
      ]
    },
    {
      "cell_type": "markdown",
      "source": [
        "-----------------------------"
      ],
      "metadata": {
        "id": "qlgyGhp-AyTn"
      },
      "id": "qlgyGhp-AyTn"
    },
    {
      "cell_type": "markdown",
      "source": [
        "_#FuelTypeCode_ == T (AND ClassOfHybridVehicleCode != _Empty_) has _0_ for _FuelCode4_"
      ],
      "metadata": {
        "id": "TG3AnHRGceGG"
      },
      "id": "TG3AnHRGceGG"
    },
    {
      "cell_type": "code",
      "source": [
        "tmp = newDF[newDF['#FuelTypeCode'] == 'T'].copy()\n",
        "tmp = tmp[tmp['ClassOfHybridVehicleCode'].isin(['NOVC-HEV', 'NOVC-FCHV', 'OVC-HEV', 'OVC-FCHV'])]\n",
        "\n",
        "toDrop = []\n",
        "\n",
        "for index, row in tmp.iterrows():\n",
        "\n",
        "  fuelCode4 = row['FuelCode4']\n",
        "\n",
        "  if fuelCode4 == '-':\n",
        "    toDrop.append(index)\n",
        "    continue"
      ],
      "metadata": {
        "id": "hL_HmeSddnlm"
      },
      "id": "hL_HmeSddnlm",
      "execution_count": 38,
      "outputs": []
    },
    {
      "cell_type": "code",
      "source": [
        "newDF.drop(toDrop, inplace=True)"
      ],
      "metadata": {
        "id": "DYuw2A2Jcn9h"
      },
      "id": "DYuw2A2Jcn9h",
      "execution_count": 39,
      "outputs": []
    },
    {
      "cell_type": "code",
      "source": [
        "len(newDF)"
      ],
      "metadata": {
        "id": "jfwsi2QUcoA4",
        "outputId": "a10af969-17aa-4bcb-c557-8b736e25d191",
        "colab": {
          "base_uri": "https://localhost:8080/"
        }
      },
      "id": "jfwsi2QUcoA4",
      "execution_count": 40,
      "outputs": [
        {
          "output_type": "execute_result",
          "data": {
            "text/plain": [
              "4920"
            ]
          },
          "metadata": {},
          "execution_count": 40
        }
      ]
    },
    {
      "cell_type": "code",
      "source": [
        "len(newDF['#VIN'].unique())"
      ],
      "metadata": {
        "id": "ZvY12YKicoEY",
        "outputId": "4456e941-d69d-46ff-c47b-8f2d35846354",
        "colab": {
          "base_uri": "https://localhost:8080/"
        }
      },
      "id": "ZvY12YKicoEY",
      "execution_count": 41,
      "outputs": [
        {
          "output_type": "execute_result",
          "data": {
            "text/plain": [
              "3000"
            ]
          },
          "metadata": {},
          "execution_count": 41
        }
      ]
    },
    {
      "cell_type": "markdown",
      "source": [
        "---------------------------------------------------------------------"
      ],
      "metadata": {
        "id": "ujTFR50GcoUf"
      },
      "id": "ujTFR50GcoUf"
    },
    {
      "cell_type": "markdown",
      "source": [
        "*#FuelTypeCode* == M, _ClassOfHybridVehicle_ != _Empty_, _#FuelCode1 == 50 --> *FuelCode4* = 0"
      ],
      "metadata": {
        "id": "V1-1nA3idrEQ"
      },
      "id": "V1-1nA3idrEQ"
    },
    {
      "cell_type": "code",
      "source": [
        "tmp = newDF[newDF['#FuelTypeCode'] == 'M'].copy()\n",
        "tmp = tmp[tmp['ClassOfHybridVehicleCode'].isin(['NOVC-HEV', 'NOVC-FCHV', 'OVC-HEV', 'OVC-FCHV'])]\n",
        "\n",
        "toDrop = []\n",
        "\n",
        "for index, row in tmp.iterrows():\n",
        "\n",
        "  fuelCode4 = row['FuelCode4']\n",
        "  fuelCode1 = row['#FuelCode1']\n",
        "\n",
        "  if fuelCode4 == '-' and fuelCode1 == 50:\n",
        "    toDrop.append(index)\n",
        "    continue"
      ],
      "metadata": {
        "id": "u59bHIZVdqcj"
      },
      "id": "u59bHIZVdqcj",
      "execution_count": 42,
      "outputs": []
    },
    {
      "cell_type": "code",
      "source": [
        "newDF.drop(toDrop, inplace=True)"
      ],
      "metadata": {
        "id": "H6H2mqkldqft"
      },
      "id": "H6H2mqkldqft",
      "execution_count": 43,
      "outputs": []
    },
    {
      "cell_type": "code",
      "source": [
        "len(newDF)"
      ],
      "metadata": {
        "id": "cBTV19aFeiJq",
        "outputId": "bfdc871c-5981-4258-9da6-0ad27755c83f",
        "colab": {
          "base_uri": "https://localhost:8080/"
        }
      },
      "id": "cBTV19aFeiJq",
      "execution_count": 44,
      "outputs": [
        {
          "output_type": "execute_result",
          "data": {
            "text/plain": [
              "4824"
            ]
          },
          "metadata": {},
          "execution_count": 44
        }
      ]
    },
    {
      "cell_type": "code",
      "source": [
        "len(newDF['#VIN'].unique())"
      ],
      "metadata": {
        "id": "AMOr18yPeTXz",
        "outputId": "e105ee39-9914-4e5f-f479-e4c363cfb170",
        "colab": {
          "base_uri": "https://localhost:8080/"
        }
      },
      "id": "AMOr18yPeTXz",
      "execution_count": 45,
      "outputs": [
        {
          "output_type": "execute_result",
          "data": {
            "text/plain": [
              "3000"
            ]
          },
          "metadata": {},
          "execution_count": 45
        }
      ]
    },
    {
      "cell_type": "markdown",
      "source": [
        "- - - - - - - - - - - - - - - - - - - - - - - - - - - -:"
      ],
      "metadata": {
        "id": "4mr4jIu6fIyB"
      },
      "id": "4mr4jIu6fIyB"
    },
    {
      "cell_type": "code",
      "source": [
        "tmp = newDF[newDF['#FuelTypeCode'] == 'M'].copy()\n",
        "tmp = tmp[tmp['ClassOfHybridVehicleCode'].isin(['NOVC-HEV', 'NOVC-FCHV', 'OVC-HEV', 'OVC-FCHV'])]\n",
        "\n",
        "toDrop = []\n",
        "\n",
        "for index, row in tmp.iterrows():\n",
        "\n",
        "  fuelCode4 = row['FuelCode4']\n",
        "  fuelCode1 = row['#FuelCode1']\n",
        "\n",
        "  if fuelCode4 == '0' and fuelCode1 != 50:\n",
        "    toDrop.append(index)\n",
        "    continue"
      ],
      "metadata": {
        "id": "q_wAXvDCfH0U"
      },
      "id": "q_wAXvDCfH0U",
      "execution_count": 49,
      "outputs": []
    },
    {
      "cell_type": "code",
      "source": [
        "newDF.drop(toDrop, inplace=True)\n",
        "print(len(newDF))\n",
        "print(len(newDF['#VIN'].unique()))"
      ],
      "metadata": {
        "id": "NZDWeCm-fICO",
        "outputId": "7b57ad89-593b-4c5b-f715-db5c8b8f4d07",
        "colab": {
          "base_uri": "https://localhost:8080/"
        }
      },
      "id": "NZDWeCm-fICO",
      "execution_count": 50,
      "outputs": [
        {
          "output_type": "stream",
          "name": "stdout",
          "text": [
            "3480\n",
            "3000\n"
          ]
        }
      ]
    },
    {
      "cell_type": "markdown",
      "source": [
        "--------------------------------------------------"
      ],
      "metadata": {
        "id": "N9ijy7KEeVQ6"
      },
      "id": "N9ijy7KEeVQ6"
    },
    {
      "cell_type": "markdown",
      "source": [
        "_#FuelTypeCode_ == *B* || *D*, *ClassOfHybridVehicle* != *Empty* --> _FuelCode4_ = -"
      ],
      "metadata": {
        "id": "Qfa9uRqGedGY"
      },
      "id": "Qfa9uRqGedGY"
    },
    {
      "cell_type": "code",
      "source": [
        "tmp = newDF[newDF['#FuelTypeCode'].isin(['B', 'D'])].copy()\n",
        "tmp = tmp[tmp['ClassOfHybridVehicleCode'].isin(['NOVC-HEV', 'NOVC-FCHV', 'OVC-HEV', 'OVC-FCHV'])]\n",
        "\n",
        "toDrop = []\n",
        "\n",
        "for index, row in tmp.iterrows():\n",
        "\n",
        "  fuelCode4 = row['FuelCode4']\n",
        "\n",
        "  if fuelCode4 == '0':\n",
        "    toDrop.append(index)\n",
        "    continue"
      ],
      "metadata": {
        "id": "TK6a9cm8eeiS"
      },
      "id": "TK6a9cm8eeiS",
      "execution_count": 46,
      "outputs": []
    },
    {
      "cell_type": "code",
      "source": [
        "newDF.drop(toDrop, inplace=True)\n",
        "print(len(newDF))\n",
        "print(len(newDF['#VIN'].unique()))"
      ],
      "metadata": {
        "id": "W2Pf7w5VeelW",
        "outputId": "6e9a9db1-7a5a-46c4-8480-8fbea7e1ad86",
        "colab": {
          "base_uri": "https://localhost:8080/"
        }
      },
      "id": "W2Pf7w5VeelW",
      "execution_count": 47,
      "outputs": [
        {
          "output_type": "stream",
          "name": "stdout",
          "text": [
            "3864\n",
            "3000\n"
          ]
        }
      ]
    },
    {
      "cell_type": "markdown",
      "source": [
        "------------------------------------------------------------"
      ],
      "metadata": {
        "id": "jA2ZQ5lbfDI0"
      },
      "id": "jA2ZQ5lbfDI0"
    },
    {
      "cell_type": "markdown",
      "source": [
        "_#FuelTypeCode_ == *-*, *ClassOfHybridVehicle* != *Empty* --> _FuelCode4_ = -"
      ],
      "metadata": {
        "id": "6R5q_Zp3jAIP"
      },
      "id": "6R5q_Zp3jAIP"
    },
    {
      "cell_type": "code",
      "source": [
        "tmp = newDF[newDF['#FuelTypeCode'] == '-'].copy()\n",
        "tmp = tmp[tmp['ClassOfHybridVehicleCode'].isin(['NOVC-HEV', 'NOVC-FCHV', 'OVC-HEV', 'OVC-FCHV'])]\n",
        "\n",
        "toDrop = []\n",
        "\n",
        "for index, row in tmp.iterrows():\n",
        "\n",
        "  fuelCode4 = row['FuelCode4']\n",
        "\n",
        "  if fuelCode4 == '0':\n",
        "    toDrop.append(index)\n",
        "    continue"
      ],
      "metadata": {
        "id": "ArSQEa6DirGX"
      },
      "id": "ArSQEa6DirGX",
      "execution_count": 70,
      "outputs": []
    },
    {
      "cell_type": "code",
      "source": [
        "newDF.drop(toDrop, inplace=True)\n",
        "print(len(newDF))\n",
        "print(len(newDF['#VIN'].unique()))"
      ],
      "metadata": {
        "id": "RlKT_toKirM3",
        "outputId": "048f9b92-44c1-4f46-d4ae-31d3d0632be3",
        "colab": {
          "base_uri": "https://localhost:8080/"
        }
      },
      "id": "RlKT_toKirM3",
      "execution_count": 71,
      "outputs": [
        {
          "output_type": "stream",
          "name": "stdout",
          "text": [
            "3000\n",
            "3000\n"
          ]
        }
      ]
    },
    {
      "cell_type": "markdown",
      "source": [
        "-----------------------------------------------------"
      ],
      "metadata": {
        "id": "pYVJAy1titLp"
      },
      "id": "pYVJAy1titLp"
    },
    {
      "cell_type": "markdown",
      "source": [
        "Save file"
      ],
      "metadata": {
        "id": "Mh3DdnX65Dju"
      },
      "id": "Mh3DdnX65Dju"
    },
    {
      "cell_type": "code",
      "source": [
        "newDF.to_csv('allPossibleCombinations.csv', index=False)"
      ],
      "metadata": {
        "id": "RhIQPI3W4rpS"
      },
      "id": "RhIQPI3W4rpS",
      "execution_count": null,
      "outputs": []
    }
  ],
  "metadata": {
    "kernelspec": {
      "display_name": "Python 3 (ipykernel)",
      "language": "python",
      "name": "python3"
    },
    "language_info": {
      "codemirror_mode": {
        "name": "ipython",
        "version": 3
      },
      "file_extension": ".py",
      "mimetype": "text/x-python",
      "name": "python",
      "nbconvert_exporter": "python",
      "pygments_lexer": "ipython3",
      "version": "3.8.10"
    },
    "colab": {
      "provenance": []
    }
  },
  "nbformat": 4,
  "nbformat_minor": 5
}